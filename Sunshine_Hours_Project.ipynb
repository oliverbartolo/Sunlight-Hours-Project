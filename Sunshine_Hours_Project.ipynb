{
  "nbformat": 4,
  "nbformat_minor": 0,
  "metadata": {
    "colab": {
      "provenance": [],
      "collapsed_sections": [
        "Me6eOOAuoE7X"
      ]
    },
    "kernelspec": {
      "name": "python3",
      "display_name": "Python 3"
    },
    "language_info": {
      "name": "python"
    }
  },
  "cells": [
    {
      "cell_type": "code",
      "execution_count": 2,
      "metadata": {
        "id": "ySmsNnSJnr-2"
      },
      "outputs": [],
      "source": [
        "import pandas as pd\n",
        "import numpy as np\n",
        "import seaborn as sns\n",
        "import matplotlib.pyplot as plt"
      ]
    },
    {
      "cell_type": "markdown",
      "source": [
        "## Data Setup"
      ],
      "metadata": {
        "id": "Me6eOOAuoE7X"
      }
    },
    {
      "cell_type": "code",
      "source": [
        "df = pd.read_csv(\"/content/Sunshine hours for cities in the world.csv\")"
      ],
      "metadata": {
        "id": "93fHCZHIn9jd"
      },
      "execution_count": 5,
      "outputs": []
    },
    {
      "cell_type": "code",
      "source": [
        "df.duplicated().sum()"
      ],
      "metadata": {
        "colab": {
          "base_uri": "https://localhost:8080/"
        },
        "id": "clnSfFtwNx3I",
        "outputId": "85d03e4e-1b79-4395-a73b-71d45a531c02"
      },
      "execution_count": 6,
      "outputs": [
        {
          "output_type": "execute_result",
          "data": {
            "text/plain": [
              "0"
            ]
          },
          "metadata": {},
          "execution_count": 6
        }
      ]
    },
    {
      "cell_type": "code",
      "source": [
        "df.isnull().sum()"
      ],
      "metadata": {
        "colab": {
          "base_uri": "https://localhost:8080/"
        },
        "id": "t7YpHqEVN4fo",
        "outputId": "51a43270-e47b-4727-fa07-1215502259aa"
      },
      "execution_count": 7,
      "outputs": [
        {
          "output_type": "execute_result",
          "data": {
            "text/plain": [
              "Country    0\n",
              "City       0\n",
              "Jan        0\n",
              "Feb        0\n",
              "Mar        0\n",
              "Apr        0\n",
              "May        0\n",
              "Jun        0\n",
              "Jul        0\n",
              "Aug        0\n",
              "Sep        0\n",
              "Oct        0\n",
              "Nov        0\n",
              "Dec        0\n",
              "Year       0\n",
              "dtype: int64"
            ]
          },
          "metadata": {},
          "execution_count": 7
        }
      ]
    },
    {
      "cell_type": "code",
      "source": [
        "df.head(5)"
      ],
      "metadata": {
        "id": "WKw61jU-oI4h",
        "outputId": "c4419dbd-36f7-43d1-f23a-5be5d560a5e6",
        "colab": {
          "base_uri": "https://localhost:8080/",
          "height": 0
        }
      },
      "execution_count": 8,
      "outputs": [
        {
          "output_type": "execute_result",
          "data": {
            "text/plain": [
              "       Country     City    Jan    Feb    Mar    Apr    May    Jun    Jul  \\\n",
              "0  Ivory Coast   Gagnoa  183.0  180.0  196.0  188.0  181.0  118.0   97.0   \n",
              "1  Ivory Coast   Bouaké  242.0  224.0  219.0  194.0  208.0  145.0  104.0   \n",
              "2  Ivory Coast  Abidjan  223.0  223.0  239.0  214.0  205.0  128.0  137.0   \n",
              "3  Ivory Coast  Odienné  242.0  220.2  217.3  214.7  248.8  221.8  183.5   \n",
              "4  Ivory Coast    Ferké  279.0  249.0  253.0  229.0  251.0  221.0  183.0   \n",
              "\n",
              "     Aug    Sep    Oct    Nov    Dec    Year  \n",
              "0   80.0  110.0  155.0  171.0  164.0  1823.0  \n",
              "1   82.0  115.0  170.0  191.0  198.0  2092.0  \n",
              "2  125.0  139.0  215.0  224.0  224.0  2296.0  \n",
              "3  174.5  185.4  235.8  252.0  242.6  2638.6  \n",
              "4  151.0  173.0  245.0  261.0  262.0  2757.0  "
            ],
            "text/html": [
              "\n",
              "  <div id=\"df-5379e9ce-2b70-45bf-9ceb-0d845ac4a5e6\" class=\"colab-df-container\">\n",
              "    <div>\n",
              "<style scoped>\n",
              "    .dataframe tbody tr th:only-of-type {\n",
              "        vertical-align: middle;\n",
              "    }\n",
              "\n",
              "    .dataframe tbody tr th {\n",
              "        vertical-align: top;\n",
              "    }\n",
              "\n",
              "    .dataframe thead th {\n",
              "        text-align: right;\n",
              "    }\n",
              "</style>\n",
              "<table border=\"1\" class=\"dataframe\">\n",
              "  <thead>\n",
              "    <tr style=\"text-align: right;\">\n",
              "      <th></th>\n",
              "      <th>Country</th>\n",
              "      <th>City</th>\n",
              "      <th>Jan</th>\n",
              "      <th>Feb</th>\n",
              "      <th>Mar</th>\n",
              "      <th>Apr</th>\n",
              "      <th>May</th>\n",
              "      <th>Jun</th>\n",
              "      <th>Jul</th>\n",
              "      <th>Aug</th>\n",
              "      <th>Sep</th>\n",
              "      <th>Oct</th>\n",
              "      <th>Nov</th>\n",
              "      <th>Dec</th>\n",
              "      <th>Year</th>\n",
              "    </tr>\n",
              "  </thead>\n",
              "  <tbody>\n",
              "    <tr>\n",
              "      <th>0</th>\n",
              "      <td>Ivory Coast</td>\n",
              "      <td>Gagnoa</td>\n",
              "      <td>183.0</td>\n",
              "      <td>180.0</td>\n",
              "      <td>196.0</td>\n",
              "      <td>188.0</td>\n",
              "      <td>181.0</td>\n",
              "      <td>118.0</td>\n",
              "      <td>97.0</td>\n",
              "      <td>80.0</td>\n",
              "      <td>110.0</td>\n",
              "      <td>155.0</td>\n",
              "      <td>171.0</td>\n",
              "      <td>164.0</td>\n",
              "      <td>1823.0</td>\n",
              "    </tr>\n",
              "    <tr>\n",
              "      <th>1</th>\n",
              "      <td>Ivory Coast</td>\n",
              "      <td>Bouaké</td>\n",
              "      <td>242.0</td>\n",
              "      <td>224.0</td>\n",
              "      <td>219.0</td>\n",
              "      <td>194.0</td>\n",
              "      <td>208.0</td>\n",
              "      <td>145.0</td>\n",
              "      <td>104.0</td>\n",
              "      <td>82.0</td>\n",
              "      <td>115.0</td>\n",
              "      <td>170.0</td>\n",
              "      <td>191.0</td>\n",
              "      <td>198.0</td>\n",
              "      <td>2092.0</td>\n",
              "    </tr>\n",
              "    <tr>\n",
              "      <th>2</th>\n",
              "      <td>Ivory Coast</td>\n",
              "      <td>Abidjan</td>\n",
              "      <td>223.0</td>\n",
              "      <td>223.0</td>\n",
              "      <td>239.0</td>\n",
              "      <td>214.0</td>\n",
              "      <td>205.0</td>\n",
              "      <td>128.0</td>\n",
              "      <td>137.0</td>\n",
              "      <td>125.0</td>\n",
              "      <td>139.0</td>\n",
              "      <td>215.0</td>\n",
              "      <td>224.0</td>\n",
              "      <td>224.0</td>\n",
              "      <td>2296.0</td>\n",
              "    </tr>\n",
              "    <tr>\n",
              "      <th>3</th>\n",
              "      <td>Ivory Coast</td>\n",
              "      <td>Odienné</td>\n",
              "      <td>242.0</td>\n",
              "      <td>220.2</td>\n",
              "      <td>217.3</td>\n",
              "      <td>214.7</td>\n",
              "      <td>248.8</td>\n",
              "      <td>221.8</td>\n",
              "      <td>183.5</td>\n",
              "      <td>174.5</td>\n",
              "      <td>185.4</td>\n",
              "      <td>235.8</td>\n",
              "      <td>252.0</td>\n",
              "      <td>242.6</td>\n",
              "      <td>2638.6</td>\n",
              "    </tr>\n",
              "    <tr>\n",
              "      <th>4</th>\n",
              "      <td>Ivory Coast</td>\n",
              "      <td>Ferké</td>\n",
              "      <td>279.0</td>\n",
              "      <td>249.0</td>\n",
              "      <td>253.0</td>\n",
              "      <td>229.0</td>\n",
              "      <td>251.0</td>\n",
              "      <td>221.0</td>\n",
              "      <td>183.0</td>\n",
              "      <td>151.0</td>\n",
              "      <td>173.0</td>\n",
              "      <td>245.0</td>\n",
              "      <td>261.0</td>\n",
              "      <td>262.0</td>\n",
              "      <td>2757.0</td>\n",
              "    </tr>\n",
              "  </tbody>\n",
              "</table>\n",
              "</div>\n",
              "    <div class=\"colab-df-buttons\">\n",
              "\n",
              "  <div class=\"colab-df-container\">\n",
              "    <button class=\"colab-df-convert\" onclick=\"convertToInteractive('df-5379e9ce-2b70-45bf-9ceb-0d845ac4a5e6')\"\n",
              "            title=\"Convert this dataframe to an interactive table.\"\n",
              "            style=\"display:none;\">\n",
              "\n",
              "  <svg xmlns=\"http://www.w3.org/2000/svg\" height=\"24px\" viewBox=\"0 -960 960 960\">\n",
              "    <path d=\"M120-120v-720h720v720H120Zm60-500h600v-160H180v160Zm220 220h160v-160H400v160Zm0 220h160v-160H400v160ZM180-400h160v-160H180v160Zm440 0h160v-160H620v160ZM180-180h160v-160H180v160Zm440 0h160v-160H620v160Z\"/>\n",
              "  </svg>\n",
              "    </button>\n",
              "\n",
              "  <style>\n",
              "    .colab-df-container {\n",
              "      display:flex;\n",
              "      gap: 12px;\n",
              "    }\n",
              "\n",
              "    .colab-df-convert {\n",
              "      background-color: #E8F0FE;\n",
              "      border: none;\n",
              "      border-radius: 50%;\n",
              "      cursor: pointer;\n",
              "      display: none;\n",
              "      fill: #1967D2;\n",
              "      height: 32px;\n",
              "      padding: 0 0 0 0;\n",
              "      width: 32px;\n",
              "    }\n",
              "\n",
              "    .colab-df-convert:hover {\n",
              "      background-color: #E2EBFA;\n",
              "      box-shadow: 0px 1px 2px rgba(60, 64, 67, 0.3), 0px 1px 3px 1px rgba(60, 64, 67, 0.15);\n",
              "      fill: #174EA6;\n",
              "    }\n",
              "\n",
              "    .colab-df-buttons div {\n",
              "      margin-bottom: 4px;\n",
              "    }\n",
              "\n",
              "    [theme=dark] .colab-df-convert {\n",
              "      background-color: #3B4455;\n",
              "      fill: #D2E3FC;\n",
              "    }\n",
              "\n",
              "    [theme=dark] .colab-df-convert:hover {\n",
              "      background-color: #434B5C;\n",
              "      box-shadow: 0px 1px 3px 1px rgba(0, 0, 0, 0.15);\n",
              "      filter: drop-shadow(0px 1px 2px rgba(0, 0, 0, 0.3));\n",
              "      fill: #FFFFFF;\n",
              "    }\n",
              "  </style>\n",
              "\n",
              "    <script>\n",
              "      const buttonEl =\n",
              "        document.querySelector('#df-5379e9ce-2b70-45bf-9ceb-0d845ac4a5e6 button.colab-df-convert');\n",
              "      buttonEl.style.display =\n",
              "        google.colab.kernel.accessAllowed ? 'block' : 'none';\n",
              "\n",
              "      async function convertToInteractive(key) {\n",
              "        const element = document.querySelector('#df-5379e9ce-2b70-45bf-9ceb-0d845ac4a5e6');\n",
              "        const dataTable =\n",
              "          await google.colab.kernel.invokeFunction('convertToInteractive',\n",
              "                                                    [key], {});\n",
              "        if (!dataTable) return;\n",
              "\n",
              "        const docLinkHtml = 'Like what you see? Visit the ' +\n",
              "          '<a target=\"_blank\" href=https://colab.research.google.com/notebooks/data_table.ipynb>data table notebook</a>'\n",
              "          + ' to learn more about interactive tables.';\n",
              "        element.innerHTML = '';\n",
              "        dataTable['output_type'] = 'display_data';\n",
              "        await google.colab.output.renderOutput(dataTable, element);\n",
              "        const docLink = document.createElement('div');\n",
              "        docLink.innerHTML = docLinkHtml;\n",
              "        element.appendChild(docLink);\n",
              "      }\n",
              "    </script>\n",
              "  </div>\n",
              "\n",
              "\n",
              "<div id=\"df-83d22357-b21c-47d9-a96e-55c6e594ba4a\">\n",
              "  <button class=\"colab-df-quickchart\" onclick=\"quickchart('df-83d22357-b21c-47d9-a96e-55c6e594ba4a')\"\n",
              "            title=\"Suggest charts\"\n",
              "            style=\"display:none;\">\n",
              "\n",
              "<svg xmlns=\"http://www.w3.org/2000/svg\" height=\"24px\"viewBox=\"0 0 24 24\"\n",
              "     width=\"24px\">\n",
              "    <g>\n",
              "        <path d=\"M19 3H5c-1.1 0-2 .9-2 2v14c0 1.1.9 2 2 2h14c1.1 0 2-.9 2-2V5c0-1.1-.9-2-2-2zM9 17H7v-7h2v7zm4 0h-2V7h2v10zm4 0h-2v-4h2v4z\"/>\n",
              "    </g>\n",
              "</svg>\n",
              "  </button>\n",
              "\n",
              "<style>\n",
              "  .colab-df-quickchart {\n",
              "      --bg-color: #E8F0FE;\n",
              "      --fill-color: #1967D2;\n",
              "      --hover-bg-color: #E2EBFA;\n",
              "      --hover-fill-color: #174EA6;\n",
              "      --disabled-fill-color: #AAA;\n",
              "      --disabled-bg-color: #DDD;\n",
              "  }\n",
              "\n",
              "  [theme=dark] .colab-df-quickchart {\n",
              "      --bg-color: #3B4455;\n",
              "      --fill-color: #D2E3FC;\n",
              "      --hover-bg-color: #434B5C;\n",
              "      --hover-fill-color: #FFFFFF;\n",
              "      --disabled-bg-color: #3B4455;\n",
              "      --disabled-fill-color: #666;\n",
              "  }\n",
              "\n",
              "  .colab-df-quickchart {\n",
              "    background-color: var(--bg-color);\n",
              "    border: none;\n",
              "    border-radius: 50%;\n",
              "    cursor: pointer;\n",
              "    display: none;\n",
              "    fill: var(--fill-color);\n",
              "    height: 32px;\n",
              "    padding: 0;\n",
              "    width: 32px;\n",
              "  }\n",
              "\n",
              "  .colab-df-quickchart:hover {\n",
              "    background-color: var(--hover-bg-color);\n",
              "    box-shadow: 0 1px 2px rgba(60, 64, 67, 0.3), 0 1px 3px 1px rgba(60, 64, 67, 0.15);\n",
              "    fill: var(--button-hover-fill-color);\n",
              "  }\n",
              "\n",
              "  .colab-df-quickchart-complete:disabled,\n",
              "  .colab-df-quickchart-complete:disabled:hover {\n",
              "    background-color: var(--disabled-bg-color);\n",
              "    fill: var(--disabled-fill-color);\n",
              "    box-shadow: none;\n",
              "  }\n",
              "\n",
              "  .colab-df-spinner {\n",
              "    border: 2px solid var(--fill-color);\n",
              "    border-color: transparent;\n",
              "    border-bottom-color: var(--fill-color);\n",
              "    animation:\n",
              "      spin 1s steps(1) infinite;\n",
              "  }\n",
              "\n",
              "  @keyframes spin {\n",
              "    0% {\n",
              "      border-color: transparent;\n",
              "      border-bottom-color: var(--fill-color);\n",
              "      border-left-color: var(--fill-color);\n",
              "    }\n",
              "    20% {\n",
              "      border-color: transparent;\n",
              "      border-left-color: var(--fill-color);\n",
              "      border-top-color: var(--fill-color);\n",
              "    }\n",
              "    30% {\n",
              "      border-color: transparent;\n",
              "      border-left-color: var(--fill-color);\n",
              "      border-top-color: var(--fill-color);\n",
              "      border-right-color: var(--fill-color);\n",
              "    }\n",
              "    40% {\n",
              "      border-color: transparent;\n",
              "      border-right-color: var(--fill-color);\n",
              "      border-top-color: var(--fill-color);\n",
              "    }\n",
              "    60% {\n",
              "      border-color: transparent;\n",
              "      border-right-color: var(--fill-color);\n",
              "    }\n",
              "    80% {\n",
              "      border-color: transparent;\n",
              "      border-right-color: var(--fill-color);\n",
              "      border-bottom-color: var(--fill-color);\n",
              "    }\n",
              "    90% {\n",
              "      border-color: transparent;\n",
              "      border-bottom-color: var(--fill-color);\n",
              "    }\n",
              "  }\n",
              "</style>\n",
              "\n",
              "  <script>\n",
              "    async function quickchart(key) {\n",
              "      const quickchartButtonEl =\n",
              "        document.querySelector('#' + key + ' button');\n",
              "      quickchartButtonEl.disabled = true;  // To prevent multiple clicks.\n",
              "      quickchartButtonEl.classList.add('colab-df-spinner');\n",
              "      try {\n",
              "        const charts = await google.colab.kernel.invokeFunction(\n",
              "            'suggestCharts', [key], {});\n",
              "      } catch (error) {\n",
              "        console.error('Error during call to suggestCharts:', error);\n",
              "      }\n",
              "      quickchartButtonEl.classList.remove('colab-df-spinner');\n",
              "      quickchartButtonEl.classList.add('colab-df-quickchart-complete');\n",
              "    }\n",
              "    (() => {\n",
              "      let quickchartButtonEl =\n",
              "        document.querySelector('#df-83d22357-b21c-47d9-a96e-55c6e594ba4a button');\n",
              "      quickchartButtonEl.style.display =\n",
              "        google.colab.kernel.accessAllowed ? 'block' : 'none';\n",
              "    })();\n",
              "  </script>\n",
              "</div>\n",
              "    </div>\n",
              "  </div>\n"
            ]
          },
          "metadata": {},
          "execution_count": 8
        }
      ]
    },
    {
      "cell_type": "code",
      "source": [
        "df = df.rename(columns={'Year': 'Avg_Year'})"
      ],
      "metadata": {
        "id": "yjk-Z8BjstBE"
      },
      "execution_count": 9,
      "outputs": []
    },
    {
      "cell_type": "code",
      "source": [
        "df.info()"
      ],
      "metadata": {
        "colab": {
          "base_uri": "https://localhost:8080/"
        },
        "id": "lexC952IqMTM",
        "outputId": "e5d8e025-2f54-4606-8ccc-2df53023e0df"
      },
      "execution_count": 10,
      "outputs": [
        {
          "output_type": "stream",
          "name": "stdout",
          "text": [
            "<class 'pandas.core.frame.DataFrame'>\n",
            "RangeIndex: 392 entries, 0 to 391\n",
            "Data columns (total 15 columns):\n",
            " #   Column    Non-Null Count  Dtype  \n",
            "---  ------    --------------  -----  \n",
            " 0   Country   392 non-null    object \n",
            " 1   City      392 non-null    object \n",
            " 2   Jan       392 non-null    float64\n",
            " 3   Feb       392 non-null    float64\n",
            " 4   Mar       392 non-null    float64\n",
            " 5   Apr       392 non-null    float64\n",
            " 6   May       392 non-null    float64\n",
            " 7   Jun       392 non-null    float64\n",
            " 8   Jul       392 non-null    float64\n",
            " 9   Aug       392 non-null    float64\n",
            " 10  Sep       392 non-null    float64\n",
            " 11  Oct       392 non-null    float64\n",
            " 12  Nov       392 non-null    float64\n",
            " 13  Dec       392 non-null    float64\n",
            " 14  Avg_Year  392 non-null    float64\n",
            "dtypes: float64(13), object(2)\n",
            "memory usage: 46.1+ KB\n"
          ]
        }
      ]
    },
    {
      "cell_type": "markdown",
      "source": [
        "## Data Analysis"
      ],
      "metadata": {
        "id": "ooBe9UUGqOf6"
      }
    },
    {
      "cell_type": "code",
      "source": [
        "unique_countries = df['Country'].unique()\n",
        "print(unique_countries)"
      ],
      "metadata": {
        "colab": {
          "base_uri": "https://localhost:8080/"
        },
        "id": "ZAS6ZaPHpZcm",
        "outputId": "829d59a2-615a-46ce-bc00-979fb8353359"
      },
      "execution_count": 33,
      "outputs": [
        {
          "output_type": "stream",
          "name": "stdout",
          "text": [
            "['Ivory Coast' 'Benin' 'Togo' 'Ghana' 'Cameroon' 'Gabon' 'Nigeria' 'Sudan'\n",
            " 'Eritrea' 'Burkina Faso' 'Niger' 'Chad' 'Gambia' 'Senegal' 'Somalia'\n",
            " 'Djibouti' 'Mali' 'Algeria' 'Tunisia' 'Morocco' 'Egypt' 'Libya' 'Kenya'\n",
            " 'Angola' 'South Sudan' 'Tanzania' 'Ethiopia' 'Congo'\n",
            " 'Democratic Republic of the Congo' 'Mauritania' 'South Africa' 'Botswana'\n",
            " 'Zambia' 'Zimbabwe' 'Malawi' 'Madagascar' 'Mozambique'\n",
            " 'Central African Republic' 'Uganda' 'Burundi' 'Guinea' 'Guinea-Bissau'\n",
            " 'Equatorial Guinea' 'Namibia' 'Afghanistan' 'Azerbaijan' 'Lebanon'\n",
            " 'Bangladesh' 'China' 'India' 'Indonesia' 'Iran' 'Iraq' 'Israel' 'Japan'\n",
            " 'Kazakhstan' 'Mongolia' 'North Korea' 'Oman' 'Pakistan' 'Philippines'\n",
            " 'Russia' 'Saudi Arabia' 'Singapore' 'South Korea' 'Taiwan' 'Thailand'\n",
            " 'Turkey' 'United ArabEmirates' 'Uzbekistan' 'Vietnam' 'Albania' 'Armenia'\n",
            " 'Austria' 'Belarus' 'Belgium' 'Bosnia and Herzegovina' 'Bulgaria'\n",
            " 'Croatia' 'Czech Republic' 'Cyprus' 'Denmark' 'Estonia' 'Faroe Islands'\n",
            " 'Finland' 'France' 'Georgia' 'Germany' 'Greece' 'Hungary' 'Iceland'\n",
            " 'Ireland' 'Italy' 'Latvia' 'Lithuania' 'Luxembourg' 'Malta' 'Moldova'\n",
            " 'Monaco' 'Montenegro' 'Netherlands' 'North Macedonia' 'Norway' 'Poland'\n",
            " 'Portugal' 'Romania' 'Serbia' 'Slovakia' 'Slovenia' 'Spain' 'Sweden'\n",
            " 'Switzerland' 'Ukraine' 'United Kingdom' 'Canada' 'Honduras' 'Mexico'\n",
            " 'Nicaragua' 'Panama' 'Puerto Rico' 'El Salvador'\n",
            " 'Saint Pierreand Miquelon' 'United States' 'Argentina' 'Bolivia' 'Brazil'\n",
            " 'Chile' 'Colombia' 'Ecuador' 'Falkland Islands' 'French Guiana' 'Guyana'\n",
            " 'Paraguay' 'Peru' 'Uruguay' 'Venezuela' 'Australia' 'Papua New Guinea'\n",
            " 'Solomon Islands' 'New Zealand' 'Fiji']\n"
          ]
        }
      ]
    },
    {
      "cell_type": "code",
      "source": [
        "min_values = []\n",
        "max_values = []\n",
        "\n",
        "for country in unique_countries:\n",
        "    country_data = df[df['Country'] == country]\n",
        "    min_value = country_data[['Jan', 'Feb', 'Mar', 'Apr', 'May', 'Jun', 'Jul', 'Aug', 'Sep', 'Oct', 'Nov', 'Dec']].min().min()\n",
        "    max_value = country_data[['Jan', 'Feb', 'Mar', 'Apr', 'May', 'Jun', 'Jul', 'Aug', 'Sep', 'Oct', 'Nov', 'Dec']].max().max()\n",
        "\n",
        "    min_values.append(min_value)\n",
        "    max_values.append(max_value)\n",
        "\n",
        "result_list = list(zip(unique_countries, min_values, max_values))\n",
        "print(result_list)\n"
      ],
      "metadata": {
        "colab": {
          "base_uri": "https://localhost:8080/"
        },
        "id": "fYMwaqLNqRO0",
        "outputId": "e0b5a481-3129-4e83-f58c-50f022760fab"
      },
      "execution_count": 34,
      "outputs": [
        {
          "output_type": "stream",
          "name": "stdout",
          "text": [
            "[('Ivory Coast', 80.0, 279.0), ('Benin', 104.0, 282.0), ('Togo', 131.0, 285.0), ('Ghana', 77.0, 283.0), ('Cameroon', 46.0, 291.4), ('Gabon', 90.4, 176.9), ('Nigeria', 99.2, 313.0), ('Sudan', 214.0, 341.0), ('Eritrea', 217.9, 304.7), ('Burkina Faso', 217.0, 291.0), ('Niger', 235.6, 297.6), ('Chad', 201.5, 319.3), ('Gambia', 180.0, 310.0), ('Senegal', 188.0, 332.0), ('Somalia', 216.0, 293.0), ('Djibouti', 236.0, 310.0), ('Mali', 216.6, 292.0), ('Algeria', 136.0, 356.5), ('Tunisia', 145.7, 372.0), ('Morocco', 179.8, 335.0), ('Egypt', 207.7, 403.0), ('Libya', 167.4, 381.3), ('Kenya', 127.1, 321.0), ('Angola', 145.0, 233.0), ('South Sudan', 176.7, 303.8), ('Tanzania', 156.0, 341.0), ('Ethiopia', 111.6, 303.5), ('Congo', 70.0, 194.0), ('Democratic Republic of the Congo', 120.0, 318.0), ('Mauritania', 248.0, 320.0), ('South Africa', 166.1, 367.0), ('Botswana', 207.0, 332.0), ('Zambia', 142.8, 319.3), ('Zimbabwe', 190.4, 300.7), ('Malawi', 142.1, 319.3), ('Madagascar', 162.5, 324.0), ('Mozambique', 210.0, 248.0), ('Central African Republic', 124.0, 297.4), ('Uganda', 139.0, 238.0), ('Burundi', 150.0, 272.8), ('Guinea', 87.0, 262.0), ('Guinea-Bissau', 155.0, 279.0), ('Equatorial Guinea', 46.5, 201.5), ('Namibia', 254.0, 353.0), ('Afghanistan', 177.2, 356.8), ('Azerbaijan', 89.0, 313.1), ('Lebanon', 133.0, 361.0), ('Bangladesh', 62.0, 279.0), ('China', 47.0, 301.0), ('India', 73.4, 300.7), ('Indonesia', 98.1, 305.0), ('Iran', 134.1, 366.9), ('Iraq', 192.2, 353.4), ('Israel', 189.1, 368.9), ('Japan', 63.5, 221.5), ('Kazakhstan', 94.0, 336.0), ('Mongolia', 156.4, 299.3), ('North Korea', 165.0, 263.0), ('Oman', 244.8, 347.4), ('Pakistan', 147.7, 334.8), ('Philippines', 132.0, 258.0), ('Russia', 0.0, 347.2), ('Saudi Arabia', 212.4, 332.1), ('Singapore', 129.6, 192.7), ('South Korea', 120.0, 221.7), ('Taiwan', 71.3, 221.4), ('Thailand', 105.0, 294.5), ('Turkey', 68.0, 350.3), ('United ArabEmirates', 229.6, 344.1), ('Uzbekistan', 105.4, 384.4), ('Vietnam', 47.0, 272.0), ('Albania', 88.0, 354.0), ('Armenia', 92.0, 343.0), ('Austria', 51.0, 260.0), ('Belarus', 28.0, 271.0), ('Belgium', 45.0, 201.0), ('Bosnia and Herzegovina', 41.0, 256.0), ('Bulgaria', 66.0, 302.0), ('Croatia', 45.0, 347.0), ('Czech Republic', 47.0, 226.0), ('Cyprus', 170.5, 387.5), ('Denmark', 37.0, 315.0), ('Estonia', 20.0, 330.0), ('Faroe Islands', 6.0, 125.0), ('Finland', 29.0, 297.0), ('France', 51.0, 366.0), ('Georgia', 93.0, 256.0), ('Germany', 37.0, 233.0), ('Greece', 127.0, 363.0), ('Hungary', 52.0, 271.0), ('Iceland', 20.0, 201.0), ('Ireland', 53.0, 195.0), ('Italy', 59.0, 342.0), ('Latvia', 22.0, 288.0), ('Lithuania', 23.0, 260.0), ('Luxembourg', 43.0, 232.5), ('Malta', 161.0, 377.0), ('Moldova', 58.0, 299.0), ('Monaco', 136.5, 329.3), ('Montenegro', 109.0, 340.0), ('Netherlands', 51.0, 222.0), ('North Macedonia', 80.0, 323.0), ('Norway', 0.0, 250.0), ('Poland', 33.6, 295.4), ('Portugal', 124.0, 368.0), ('Romania', 62.0, 288.0), ('Serbia', 49.0, 291.0), ('Slovakia', 47.0, 276.0), ('Slovenia', 56.0, 293.0), ('Spain', 124.0, 359.0), ('Sweden', 32.0, 292.0), ('Switzerland', 35.0, 271.0), ('Ukraine', 31.0, 310.0), ('United Kingdom', 32.0, 212.0), ('Canada', 12.6, 314.1), ('Honduras', 144.0, 234.0), ('Mexico', 133.0, 332.0), ('Nicaragua', 151.9, 291.4), ('Panama', 99.2, 245.2), ('Puerto Rico', 202.4, 282.0), ('El Salvador', 174.0, 301.0), ('Saint Pierreand Miquelon', 45.4, 173.5), ('United States', 51.8, 440.2), ('Argentina', 35.0, 297.6), ('Bolivia', 148.8, 240.0), ('Brazil', 93.4, 294.1), ('Chile', 45.0, 365.8), ('Colombia', 83.0, 283.0), ('Ecuador', 101.7, 256.0), ('Falkland Islands', 57.0, 200.0), ('French Guiana', 89.9, 255.2), ('Guyana', 156.7, 235.3), ('Paraguay', 165.0, 295.0), ('Peru', 28.6, 310.0), ('Uruguay', 129.7, 294.9), ('Venezuela', 182.9, 301.0), ('Australia', 120.0, 359.4), ('Papua New Guinea', 158.0, 243.0), ('Solomon Islands', 155.4, 226.3), ('New Zealand', 95.3, 240.3), ('Fiji', 135.0, 195.3)]\n"
          ]
        }
      ]
    },
    {
      "cell_type": "code",
      "source": [
        "sunlight_avg = df.groupby(['Country', 'Avg_Year'])['Avg_Year']\n",
        "\n",
        "city_with_max_sunlight = df.loc[df.groupby(['Country', 'Avg_Year'])['Avg_Year'].idxmax()]\n",
        "\n",
        "print(city_with_max_sunlight[['Country', 'Avg_Year', 'City']])\n"
      ],
      "metadata": {
        "colab": {
          "base_uri": "https://localhost:8080/"
        },
        "id": "rP-nPNOurgRL",
        "outputId": "a150eab1-7c6b-4d40-d69b-2b8979daabc3"
      },
      "execution_count": 35,
      "outputs": [
        {
          "output_type": "stream",
          "name": "stdout",
          "text": [
            "         Country  Avg_Year         City\n",
            "111  Afghanistan    3175.1        Kabul\n",
            "184      Albania    2544.0       Tirana\n",
            "41       Algeria    2847.0      Algiers\n",
            "42       Algeria    3686.0  Tamanrasset\n",
            "59        Angola    2341.0       Luanda\n",
            "..           ...       ...          ...\n",
            "84        Zambia    2793.9        Ndola\n",
            "85        Zambia    2935.7       Lusaka\n",
            "86        Zambia    3166.8  Livingstone\n",
            "87      Zimbabwe    3010.9       Harare\n",
            "88      Zimbabwe    3119.9     Bulawayo\n",
            "\n",
            "[391 rows x 3 columns]\n"
          ]
        }
      ]
    },
    {
      "cell_type": "code",
      "source": [
        "city_with_max_sunlight = city_with_max_sunlight.sort_values(by='Avg_Year', ascending=False)\n",
        "\n",
        "print(city_with_max_sunlight[['Country', 'Avg_Year', 'City']])\n"
      ],
      "metadata": {
        "colab": {
          "base_uri": "https://localhost:8080/"
        },
        "id": "GtiEK4hfsOA6",
        "outputId": "11008157-c84b-4c87-d125-fbabd11b38fc"
      },
      "execution_count": 36,
      "outputs": [
        {
          "output_type": "stream",
          "name": "stdout",
          "text": [
            "               Country  Avg_Year          City\n",
            "329      United States    4015.3          Yuma\n",
            "52               Egypt    3958.0    Marsa Alam\n",
            "50               Egypt    3943.4  Dakhla Oasis\n",
            "349              Chile    3926.2        Calama\n",
            "311      United States    3871.6       Phoenix\n",
            "..                 ...       ...           ...\n",
            "364               Peru    1230.0          Lima\n",
            "226             Norway    1187.0        Bergen\n",
            "108  Equatorial Guinea    1176.7        Malabo\n",
            "159             Russia    1164.3        Dikson\n",
            "200      Faroe Islands     840.0      Tórshavn\n",
            "\n",
            "[391 rows x 3 columns]\n"
          ]
        }
      ]
    },
    {
      "cell_type": "code",
      "source": [
        "median_value = city_with_max_sunlight['Avg_Year'].median()\n",
        "max_value = city_with_max_sunlight['Avg_Year'].max()\n",
        "min_value = city_with_max_sunlight['Avg_Year'].min()\n",
        "mean_value = city_with_max_sunlight['Avg_Year'].mean()\n",
        "\n",
        "median_value, max_value, min_value, mean_value"
      ],
      "metadata": {
        "colab": {
          "base_uri": "https://localhost:8080/"
        },
        "id": "pwg0KoEmvpEC",
        "outputId": "f72d0bf1-760a-4038-efa9-fb7e6189e2eb"
      },
      "execution_count": 37,
      "outputs": [
        {
          "output_type": "execute_result",
          "data": {
            "text/plain": [
              "(2512.2, 4015.3, 840.0, 2523.9187979539643)"
            ]
          },
          "metadata": {},
          "execution_count": 37
        }
      ]
    },
    {
      "cell_type": "code",
      "source": [
        "plt.hist(city_with_max_sunlight['Avg_Year'], bins=100, edgecolor='k', alpha=0.7)\n",
        "plt.axvline(median_value, color='red', linestyle='dashed', linewidth=2, label='Median')\n",
        "plt.axvline(mean_value, color='yellow', linestyle='solid', linewidth=2, label='Mean')\n",
        "plt.xlabel('Annual Sunight Hours (Avg_Year)')\n",
        "plt.ylabel('Number of Cities')\n",
        "plt.title('Average Annual Hours of Sunlight')\n",
        "plt.show()"
      ],
      "metadata": {
        "colab": {
          "base_uri": "https://localhost:8080/",
          "height": 0
        },
        "id": "VvXKZxkSu9ZT",
        "outputId": "14006115-90c9-4ff8-f7d7-a2132140868e"
      },
      "execution_count": 38,
      "outputs": [
        {
          "output_type": "display_data",
          "data": {
            "text/plain": [
              "<Figure size 640x480 with 1 Axes>"
            ],
            "image/png": "[encoded data removed]"
          },
          "metadata": {}
        }
      ]
    },
    {
      "cell_type": "code",
      "source": [
        "country_avg_sunlight = df.groupby('Country')['Avg_Year'].mean()\n",
        "\n",
        "country_with_most_sunlight = country_avg_sunlight.idxmax()\n",
        "max_sunlight_hours = country_avg_sunlight.max()\n",
        "\n",
        "print(f\"The country with the most sunlight hours is {country_with_most_sunlight} with an average of {max_sunlight_hours} hours per year.\")\n"
      ],
      "metadata": {
        "colab": {
          "base_uri": "https://localhost:8080/"
        },
        "id": "TIhS46iNzM_e",
        "outputId": "93b817a0-8acf-4010-96af-3c2f64ae35f9"
      },
      "execution_count": 39,
      "outputs": [
        {
          "output_type": "stream",
          "name": "stdout",
          "text": [
            "The country with the most sunlight hours is Namibia with an average of 3737.5 hours per year.\n"
          ]
        }
      ]
    },
    {
      "cell_type": "code",
      "source": [
        "country_avg_sunlight = df.groupby('Country')['Avg_Year'].mean()\n",
        "\n",
        "country_with_least_sunlight = country_avg_sunlight.idxmin()\n",
        "min_sunlight_hours = country_avg_sunlight.min()\n",
        "\n",
        "print(f\"The country with the least sunlight hours is {country_with_least_sunlight} with an average of {min_sunlight_hours} hours per year.\")\n"
      ],
      "metadata": {
        "colab": {
          "base_uri": "https://localhost:8080/"
        },
        "id": "-ncZ96Qy2b7f",
        "outputId": "f4d12cb6-7224-4b79-c2b9-47b17b936ba4"
      },
      "execution_count": 40,
      "outputs": [
        {
          "output_type": "stream",
          "name": "stdout",
          "text": [
            "The country with the least sunlight hours is Faroe Islands with an average of 840.0 hours per year.\n"
          ]
        }
      ]
    },
    {
      "cell_type": "code",
      "source": [
        "import matplotlib.pyplot as plt\n",
        "\n",
        "\n",
        "plt.figure(figsize=(8, 6))\n",
        "plt.boxplot(df['Avg_Year'])\n",
        "plt.xlabel('Average Annual Hours of Sunlight  (Avg_Year)')\n",
        "plt.title('Average Hours of Sunlight Per Year')\n",
        "plt.show()\n"
      ],
      "metadata": {
        "colab": {
          "base_uri": "https://localhost:8080/",
          "height": 0
        },
        "id": "7XW_n7vX73z4",
        "outputId": "ab7f547f-2000-411b-f6bc-6f634fdc6f6f"
      },
      "execution_count": 41,
      "outputs": [
        {
          "output_type": "display_data",
          "data": {
            "text/plain": [
              "<Figure size 800x600 with 1 Axes>"
            ],
            "image/png": "[encoded data removed]"
          },
          "metadata": {}
        }
      ]
    },
    {
      "cell_type": "code",
      "source": [
        "num_countries = df['Country'].nunique()\n",
        "num_countries"
      ],
      "metadata": {
        "colab": {
          "base_uri": "https://localhost:8080/"
        },
        "id": "n-wWZ8Rby8ep",
        "outputId": "c5f143c8-34d6-4c7c-bcc2-4c1eea8a5a30"
      },
      "execution_count": 42,
      "outputs": [
        {
          "output_type": "execute_result",
          "data": {
            "text/plain": [
              "141"
            ]
          },
          "metadata": {},
          "execution_count": 42
        }
      ]
    },
    {
      "cell_type": "code",
      "source": [
        "df_country_average = df.groupby('Country')['Avg_Year'].mean().reset_index()\n",
        "\n",
        "print(df_country_average)"
      ],
      "metadata": {
        "colab": {
          "base_uri": "https://localhost:8080/"
        },
        "id": "tqIeIIwANsga",
        "outputId": "9ae9c075-4c8f-4fcf-9d8f-4f2afdb92ccf"
      },
      "execution_count": 43,
      "outputs": [
        {
          "output_type": "stream",
          "name": "stdout",
          "text": [
            "         Country     Avg_Year\n",
            "0    Afghanistan  3175.100000\n",
            "1        Albania  2544.000000\n",
            "2        Algeria  3266.500000\n",
            "3         Angola  2341.000000\n",
            "4      Argentina  2220.300000\n",
            "..           ...          ...\n",
            "136   Uzbekistan  2823.900000\n",
            "137    Venezuela  2895.300000\n",
            "138      Vietnam  2123.500000\n",
            "139       Zambia  2965.466667\n",
            "140     Zimbabwe  3065.400000\n",
            "\n",
            "[141 rows x 2 columns]\n"
          ]
        }
      ]
    },
    {
      "cell_type": "code",
      "source": [
        "\n",
        "df_new = df.groupby('Country')[['Jan', 'Feb', 'Mar', 'Apr', 'May', 'Jun', 'Jul', 'Aug', 'Sep', 'Oct', 'Nov', 'Dec']].mean().reset_index()\n",
        "\n",
        "df_new['Avg_Year'] = df_new[['Jan', 'Feb', 'Mar', 'Apr', 'May', 'Jun', 'Jul', 'Aug', 'Sep', 'Oct', 'Nov', 'Dec']].mean(axis=1)\n",
        "\n",
        "\n",
        "df_new = df_new.drop('Avg_Year', axis=1)\n",
        "df_new"
      ],
      "metadata": {
        "colab": {
          "base_uri": "https://localhost:8080/",
          "height": 0
        },
        "id": "LAQygW6NYZLi",
        "outputId": "38cfd51f-f74e-4741-ae85-e335f816356d"
      },
      "execution_count": 44,
      "outputs": [
        {
          "output_type": "execute_result",
          "data": {
            "text/plain": [
              "         Country         Jan         Feb         Mar         Apr         May  \\\n",
              "0    Afghanistan  177.200000  178.600000  204.500000  232.500000  310.300000   \n",
              "1        Albania  124.000000  125.000000  165.000000  191.000000  263.000000   \n",
              "2        Algeria  223.300000  220.250000  262.200000  292.500000  323.800000   \n",
              "3         Angola  219.000000  208.000000  213.000000  199.000000  233.000000   \n",
              "4      Argentina  238.250000  207.066667  185.050000  170.616667  151.466667   \n",
              "..           ...         ...         ...         ...         ...         ...   \n",
              "136   Uzbekistan  117.800000  127.100000  164.300000  216.000000  303.800000   \n",
              "137    Venezuela  259.133333  243.900000  261.700000  224.666667  217.400000   \n",
              "138      Vietnam  178.250000  168.000000  190.500000  185.000000  203.500000   \n",
              "139       Zambia  180.833333  168.933333  221.133333  254.000000  286.233333   \n",
              "140     Zimbabwe  230.950000  201.600000  241.800000  250.500000  274.350000   \n",
              "\n",
              "            Jun         Jul     Aug         Sep         Oct         Nov  \\\n",
              "0    353.400000  356.800000  339.70  303.900000  282.600000  253.200000   \n",
              "1    298.000000  354.000000  327.00  264.000000  218.000000  127.000000   \n",
              "2    312.000000  353.250000  325.35  262.500000  269.500000  225.000000   \n",
              "3    223.000000  175.000000  150.00  145.000000  164.000000  199.000000   \n",
              "4    123.383333  138.616667  170.40  174.600000  208.566667  222.833333   \n",
              "..          ...         ...     ...         ...         ...         ...   \n",
              "136  363.000000  384.400000  365.80  300.000000  226.300000  150.000000   \n",
              "137  212.333333  248.100000  248.00  245.833333  251.400000  239.000000   \n",
              "138  182.250000  196.250000  175.00  161.750000  158.500000  157.250000   \n",
              "139  278.000000  300.700000  306.90  289.000000  273.833333  223.000000   \n",
              "140  265.500000  283.650000  300.70  291.000000  279.000000  234.000000   \n",
              "\n",
              "            Dec  \n",
              "0    182.400000  \n",
              "1     88.000000  \n",
              "2    204.400000  \n",
              "3    212.000000  \n",
              "4    229.450000  \n",
              "..          ...  \n",
              "136  105.400000  \n",
              "137  243.933333  \n",
              "138  167.000000  \n",
              "139  182.900000  \n",
              "140  212.350000  \n",
              "\n",
              "[141 rows x 13 columns]"
            ],
            "text/html": [
              "\n",
              "  <div id=\"df-56926173-952d-46d0-97ee-e2b2f2e60f5e\" class=\"colab-df-container\">\n",
              "    <div>\n",
              "<style scoped>\n",
              "    .dataframe tbody tr th:only-of-type {\n",
              "        vertical-align: middle;\n",
              "    }\n",
              "\n",
              "    .dataframe tbody tr th {\n",
              "        vertical-align: top;\n",
              "    }\n",
              "\n",
              "    .dataframe thead th {\n",
              "        text-align: right;\n",
              "    }\n",
              "</style>\n",
              "<table border=\"1\" class=\"dataframe\">\n",
              "  <thead>\n",
              "    <tr style=\"text-align: right;\">\n",
              "      <th></th>\n",
              "      <th>Country</th>\n",
              "      <th>Jan</th>\n",
              "      <th>Feb</th>\n",
              "      <th>Mar</th>\n",
              "      <th>Apr</th>\n",
              "      <th>May</th>\n",
              "      <th>Jun</th>\n",
              "      <th>Jul</th>\n",
              "      <th>Aug</th>\n",
              "      <th>Sep</th>\n",
              "      <th>Oct</th>\n",
              "      <th>Nov</th>\n",
              "      <th>Dec</th>\n",
              "    </tr>\n",
              "  </thead>\n",
              "  <tbody>\n",
              "    <tr>\n",
              "      <th>0</th>\n",
              "      <td>Afghanistan</td>\n",
              "      <td>177.200000</td>\n",
              "      <td>178.600000</td>\n",
              "      <td>204.500000</td>\n",
              "      <td>232.500000</td>\n",
              "      <td>310.300000</td>\n",
              "      <td>353.400000</td>\n",
              "      <td>356.800000</td>\n",
              "      <td>339.70</td>\n",
              "      <td>303.900000</td>\n",
              "      <td>282.600000</td>\n",
              "      <td>253.200000</td>\n",
              "      <td>182.400000</td>\n",
              "    </tr>\n",
              "    <tr>\n",
              "      <th>1</th>\n",
              "      <td>Albania</td>\n",
              "      <td>124.000000</td>\n",
              "      <td>125.000000</td>\n",
              "      <td>165.000000</td>\n",
              "      <td>191.000000</td>\n",
              "      <td>263.000000</td>\n",
              "      <td>298.000000</td>\n",
              "      <td>354.000000</td>\n",
              "      <td>327.00</td>\n",
              "      <td>264.000000</td>\n",
              "      <td>218.000000</td>\n",
              "      <td>127.000000</td>\n",
              "      <td>88.000000</td>\n",
              "    </tr>\n",
              "    <tr>\n",
              "      <th>2</th>\n",
              "      <td>Algeria</td>\n",
              "      <td>223.300000</td>\n",
              "      <td>220.250000</td>\n",
              "      <td>262.200000</td>\n",
              "      <td>292.500000</td>\n",
              "      <td>323.800000</td>\n",
              "      <td>312.000000</td>\n",
              "      <td>353.250000</td>\n",
              "      <td>325.35</td>\n",
              "      <td>262.500000</td>\n",
              "      <td>269.500000</td>\n",
              "      <td>225.000000</td>\n",
              "      <td>204.400000</td>\n",
              "    </tr>\n",
              "    <tr>\n",
              "      <th>3</th>\n",
              "      <td>Angola</td>\n",
              "      <td>219.000000</td>\n",
              "      <td>208.000000</td>\n",
              "      <td>213.000000</td>\n",
              "      <td>199.000000</td>\n",
              "      <td>233.000000</td>\n",
              "      <td>223.000000</td>\n",
              "      <td>175.000000</td>\n",
              "      <td>150.00</td>\n",
              "      <td>145.000000</td>\n",
              "      <td>164.000000</td>\n",
              "      <td>199.000000</td>\n",
              "      <td>212.000000</td>\n",
              "    </tr>\n",
              "    <tr>\n",
              "      <th>4</th>\n",
              "      <td>Argentina</td>\n",
              "      <td>238.250000</td>\n",
              "      <td>207.066667</td>\n",
              "      <td>185.050000</td>\n",
              "      <td>170.616667</td>\n",
              "      <td>151.466667</td>\n",
              "      <td>123.383333</td>\n",
              "      <td>138.616667</td>\n",
              "      <td>170.40</td>\n",
              "      <td>174.600000</td>\n",
              "      <td>208.566667</td>\n",
              "      <td>222.833333</td>\n",
              "      <td>229.450000</td>\n",
              "    </tr>\n",
              "    <tr>\n",
              "      <th>...</th>\n",
              "      <td>...</td>\n",
              "      <td>...</td>\n",
              "      <td>...</td>\n",
              "      <td>...</td>\n",
              "      <td>...</td>\n",
              "      <td>...</td>\n",
              "      <td>...</td>\n",
              "      <td>...</td>\n",
              "      <td>...</td>\n",
              "      <td>...</td>\n",
              "      <td>...</td>\n",
              "      <td>...</td>\n",
              "      <td>...</td>\n",
              "    </tr>\n",
              "    <tr>\n",
              "      <th>136</th>\n",
              "      <td>Uzbekistan</td>\n",
              "      <td>117.800000</td>\n",
              "      <td>127.100000</td>\n",
              "      <td>164.300000</td>\n",
              "      <td>216.000000</td>\n",
              "      <td>303.800000</td>\n",
              "      <td>363.000000</td>\n",
              "      <td>384.400000</td>\n",
              "      <td>365.80</td>\n",
              "      <td>300.000000</td>\n",
              "      <td>226.300000</td>\n",
              "      <td>150.000000</td>\n",
              "      <td>105.400000</td>\n",
              "    </tr>\n",
              "    <tr>\n",
              "      <th>137</th>\n",
              "      <td>Venezuela</td>\n",
              "      <td>259.133333</td>\n",
              "      <td>243.900000</td>\n",
              "      <td>261.700000</td>\n",
              "      <td>224.666667</td>\n",
              "      <td>217.400000</td>\n",
              "      <td>212.333333</td>\n",
              "      <td>248.100000</td>\n",
              "      <td>248.00</td>\n",
              "      <td>245.833333</td>\n",
              "      <td>251.400000</td>\n",
              "      <td>239.000000</td>\n",
              "      <td>243.933333</td>\n",
              "    </tr>\n",
              "    <tr>\n",
              "      <th>138</th>\n",
              "      <td>Vietnam</td>\n",
              "      <td>178.250000</td>\n",
              "      <td>168.000000</td>\n",
              "      <td>190.500000</td>\n",
              "      <td>185.000000</td>\n",
              "      <td>203.500000</td>\n",
              "      <td>182.250000</td>\n",
              "      <td>196.250000</td>\n",
              "      <td>175.00</td>\n",
              "      <td>161.750000</td>\n",
              "      <td>158.500000</td>\n",
              "      <td>157.250000</td>\n",
              "      <td>167.000000</td>\n",
              "    </tr>\n",
              "    <tr>\n",
              "      <th>139</th>\n",
              "      <td>Zambia</td>\n",
              "      <td>180.833333</td>\n",
              "      <td>168.933333</td>\n",
              "      <td>221.133333</td>\n",
              "      <td>254.000000</td>\n",
              "      <td>286.233333</td>\n",
              "      <td>278.000000</td>\n",
              "      <td>300.700000</td>\n",
              "      <td>306.90</td>\n",
              "      <td>289.000000</td>\n",
              "      <td>273.833333</td>\n",
              "      <td>223.000000</td>\n",
              "      <td>182.900000</td>\n",
              "    </tr>\n",
              "    <tr>\n",
              "      <th>140</th>\n",
              "      <td>Zimbabwe</td>\n",
              "      <td>230.950000</td>\n",
              "      <td>201.600000</td>\n",
              "      <td>241.800000</td>\n",
              "      <td>250.500000</td>\n",
              "      <td>274.350000</td>\n",
              "      <td>265.500000</td>\n",
              "      <td>283.650000</td>\n",
              "      <td>300.70</td>\n",
              "      <td>291.000000</td>\n",
              "      <td>279.000000</td>\n",
              "      <td>234.000000</td>\n",
              "      <td>212.350000</td>\n",
              "    </tr>\n",
              "  </tbody>\n",
              "</table>\n",
              "<p>141 rows × 13 columns</p>\n",
              "</div>\n",
              "    <div class=\"colab-df-buttons\">\n",
              "\n",
              "  <div class=\"colab-df-container\">\n",
              "    <button class=\"colab-df-convert\" onclick=\"convertToInteractive('df-56926173-952d-46d0-97ee-e2b2f2e60f5e')\"\n",
              "            title=\"Convert this dataframe to an interactive table.\"\n",
              "            style=\"display:none;\">\n",
              "\n",
              "  <svg xmlns=\"http://www.w3.org/2000/svg\" height=\"24px\" viewBox=\"0 -960 960 960\">\n",
              "    <path d=\"M120-120v-720h720v720H120Zm60-500h600v-160H180v160Zm220 220h160v-160H400v160Zm0 220h160v-160H400v160ZM180-400h160v-160H180v160Zm440 0h160v-160H620v160ZM180-180h160v-160H180v160Zm440 0h160v-160H620v160Z\"/>\n",
              "  </svg>\n",
              "    </button>\n",
              "\n",
              "  <style>\n",
              "    .colab-df-container {\n",
              "      display:flex;\n",
              "      gap: 12px;\n",
              "    }\n",
              "\n",
              "    .colab-df-convert {\n",
              "      background-color: #E8F0FE;\n",
              "      border: none;\n",
              "      border-radius: 50%;\n",
              "      cursor: pointer;\n",
              "      display: none;\n",
              "      fill: #1967D2;\n",
              "      height: 32px;\n",
              "      padding: 0 0 0 0;\n",
              "      width: 32px;\n",
              "    }\n",
              "\n",
              "    .colab-df-convert:hover {\n",
              "      background-color: #E2EBFA;\n",
              "      box-shadow: 0px 1px 2px rgba(60, 64, 67, 0.3), 0px 1px 3px 1px rgba(60, 64, 67, 0.15);\n",
              "      fill: #174EA6;\n",
              "    }\n",
              "\n",
              "    .colab-df-buttons div {\n",
              "      margin-bottom: 4px;\n",
              "    }\n",
              "\n",
              "    [theme=dark] .colab-df-convert {\n",
              "      background-color: #3B4455;\n",
              "      fill: #D2E3FC;\n",
              "    }\n",
              "\n",
              "    [theme=dark] .colab-df-convert:hover {\n",
              "      background-color: #434B5C;\n",
              "      box-shadow: 0px 1px 3px 1px rgba(0, 0, 0, 0.15);\n",
              "      filter: drop-shadow(0px 1px 2px rgba(0, 0, 0, 0.3));\n",
              "      fill: #FFFFFF;\n",
              "    }\n",
              "  </style>\n",
              "\n",
              "    <script>\n",
              "      const buttonEl =\n",
              "        document.querySelector('#df-56926173-952d-46d0-97ee-e2b2f2e60f5e button.colab-df-convert');\n",
              "      buttonEl.style.display =\n",
              "        google.colab.kernel.accessAllowed ? 'block' : 'none';\n",
              "\n",
              "      async function convertToInteractive(key) {\n",
              "        const element = document.querySelector('#df-56926173-952d-46d0-97ee-e2b2f2e60f5e');\n",
              "        const dataTable =\n",
              "          await google.colab.kernel.invokeFunction('convertToInteractive',\n",
              "                                                    [key], {});\n",
              "        if (!dataTable) return;\n",
              "\n",
              "        const docLinkHtml = 'Like what you see? Visit the ' +\n",
              "          '<a target=\"_blank\" href=https://colab.research.google.com/notebooks/data_table.ipynb>data table notebook</a>'\n",
              "          + ' to learn more about interactive tables.';\n",
              "        element.innerHTML = '';\n",
              "        dataTable['output_type'] = 'display_data';\n",
              "        await google.colab.output.renderOutput(dataTable, element);\n",
              "        const docLink = document.createElement('div');\n",
              "        docLink.innerHTML = docLinkHtml;\n",
              "        element.appendChild(docLink);\n",
              "      }\n",
              "    </script>\n",
              "  </div>\n",
              "\n",
              "\n",
              "<div id=\"df-d92cd3b8-f692-4eb5-9945-26c1c5d923d8\">\n",
              "  <button class=\"colab-df-quickchart\" onclick=\"quickchart('df-d92cd3b8-f692-4eb5-9945-26c1c5d923d8')\"\n",
              "            title=\"Suggest charts\"\n",
              "            style=\"display:none;\">\n",
              "\n",
              "<svg xmlns=\"http://www.w3.org/2000/svg\" height=\"24px\"viewBox=\"0 0 24 24\"\n",
              "     width=\"24px\">\n",
              "    <g>\n",
              "        <path d=\"M19 3H5c-1.1 0-2 .9-2 2v14c0 1.1.9 2 2 2h14c1.1 0 2-.9 2-2V5c0-1.1-.9-2-2-2zM9 17H7v-7h2v7zm4 0h-2V7h2v10zm4 0h-2v-4h2v4z\"/>\n",
              "    </g>\n",
              "</svg>\n",
              "  </button>\n",
              "\n",
              "<style>\n",
              "  .colab-df-quickchart {\n",
              "      --bg-color: #E8F0FE;\n",
              "      --fill-color: #1967D2;\n",
              "      --hover-bg-color: #E2EBFA;\n",
              "      --hover-fill-color: #174EA6;\n",
              "      --disabled-fill-color: #AAA;\n",
              "      --disabled-bg-color: #DDD;\n",
              "  }\n",
              "\n",
              "  [theme=dark] .colab-df-quickchart {\n",
              "      --bg-color: #3B4455;\n",
              "      --fill-color: #D2E3FC;\n",
              "      --hover-bg-color: #434B5C;\n",
              "      --hover-fill-color: #FFFFFF;\n",
              "      --disabled-bg-color: #3B4455;\n",
              "      --disabled-fill-color: #666;\n",
              "  }\n",
              "\n",
              "  .colab-df-quickchart {\n",
              "    background-color: var(--bg-color);\n",
              "    border: none;\n",
              "    border-radius: 50%;\n",
              "    cursor: pointer;\n",
              "    display: none;\n",
              "    fill: var(--fill-color);\n",
              "    height: 32px;\n",
              "    padding: 0;\n",
              "    width: 32px;\n",
              "  }\n",
              "\n",
              "  .colab-df-quickchart:hover {\n",
              "    background-color: var(--hover-bg-color);\n",
              "    box-shadow: 0 1px 2px rgba(60, 64, 67, 0.3), 0 1px 3px 1px rgba(60, 64, 67, 0.15);\n",
              "    fill: var(--button-hover-fill-color);\n",
              "  }\n",
              "\n",
              "  .colab-df-quickchart-complete:disabled,\n",
              "  .colab-df-quickchart-complete:disabled:hover {\n",
              "    background-color: var(--disabled-bg-color);\n",
              "    fill: var(--disabled-fill-color);\n",
              "    box-shadow: none;\n",
              "  }\n",
              "\n",
              "  .colab-df-spinner {\n",
              "    border: 2px solid var(--fill-color);\n",
              "    border-color: transparent;\n",
              "    border-bottom-color: var(--fill-color);\n",
              "    animation:\n",
              "      spin 1s steps(1) infinite;\n",
              "  }\n",
              "\n",
              "  @keyframes spin {\n",
              "    0% {\n",
              "      border-color: transparent;\n",
              "      border-bottom-color: var(--fill-color);\n",
              "      border-left-color: var(--fill-color);\n",
              "    }\n",
              "    20% {\n",
              "      border-color: transparent;\n",
              "      border-left-color: var(--fill-color);\n",
              "      border-top-color: var(--fill-color);\n",
              "    }\n",
              "    30% {\n",
              "      border-color: transparent;\n",
              "      border-left-color: var(--fill-color);\n",
              "      border-top-color: var(--fill-color);\n",
              "      border-right-color: var(--fill-color);\n",
              "    }\n",
              "    40% {\n",
              "      border-color: transparent;\n",
              "      border-right-color: var(--fill-color);\n",
              "      border-top-color: var(--fill-color);\n",
              "    }\n",
              "    60% {\n",
              "      border-color: transparent;\n",
              "      border-right-color: var(--fill-color);\n",
              "    }\n",
              "    80% {\n",
              "      border-color: transparent;\n",
              "      border-right-color: var(--fill-color);\n",
              "      border-bottom-color: var(--fill-color);\n",
              "    }\n",
              "    90% {\n",
              "      border-color: transparent;\n",
              "      border-bottom-color: var(--fill-color);\n",
              "    }\n",
              "  }\n",
              "</style>\n",
              "\n",
              "  <script>\n",
              "    async function quickchart(key) {\n",
              "      const quickchartButtonEl =\n",
              "        document.querySelector('#' + key + ' button');\n",
              "      quickchartButtonEl.disabled = true;  // To prevent multiple clicks.\n",
              "      quickchartButtonEl.classList.add('colab-df-spinner');\n",
              "      try {\n",
              "        const charts = await google.colab.kernel.invokeFunction(\n",
              "            'suggestCharts', [key], {});\n",
              "      } catch (error) {\n",
              "        console.error('Error during call to suggestCharts:', error);\n",
              "      }\n",
              "      quickchartButtonEl.classList.remove('colab-df-spinner');\n",
              "      quickchartButtonEl.classList.add('colab-df-quickchart-complete');\n",
              "    }\n",
              "    (() => {\n",
              "      let quickchartButtonEl =\n",
              "        document.querySelector('#df-d92cd3b8-f692-4eb5-9945-26c1c5d923d8 button');\n",
              "      quickchartButtonEl.style.display =\n",
              "        google.colab.kernel.accessAllowed ? 'block' : 'none';\n",
              "    })();\n",
              "  </script>\n",
              "</div>\n",
              "    </div>\n",
              "  </div>\n"
            ]
          },
          "metadata": {},
          "execution_count": 44
        }
      ]
    },
    {
      "cell_type": "code",
      "source": [
        "monthly_avg_per_country = df.groupby('Country')[['Jan', 'Feb', 'Mar', 'Apr', 'May', 'Jun', 'Jul', 'Aug', 'Sep', 'Oct', 'Nov', 'Dec']].mean()\n",
        "\n",
        "#heatmap plotting\n",
        "plt.figure(figsize=(10,7))\n",
        "sns.heatmap(monthly_avg_per_country, cmap='YlGnBu', annot=False, fmt=\".1f\", linewidths=.5,  yticklabels=False)\n",
        "plt.xlabel('Month')\n",
        "plt.title('Monthly Average Sunlight Hours Heatmap')\n",
        "plt.show()"
      ],
      "metadata": {
        "id": "GnqKgs6wnAs1",
        "outputId": "b1e11deb-dbf5-42fd-dc57-d2c7637f63d3",
        "colab": {
          "base_uri": "https://localhost:8080/",
          "height": 0
        }
      },
      "execution_count": 45,
      "outputs": [
        {
          "output_type": "display_data",
          "data": {
            "text/plain": [
              "<Figure size 1000x700 with 2 Axes>"
            ],
            "image/png": "[encoded data removed]"
          },
          "metadata": {}
        }
      ]
    },
    {
      "cell_type": "markdown",
      "source": [
        "## Summary\n",
        "\n",
        "through the data analysis shown above we were able to discover some descriptive statistics. From the 141 countries in the dataset we discovered Namibia to have the greatest number of sunlight hours per year, reaching 3737.5 hours per year. Whilst the lowest country is the Faroe Islands with an average of 840.0 hours per year.\n",
        "\n",
        "Some further descriptive statistics were discovered such as the median_value 2512.2 hours of sunlight, max_value 4015.3 hours of sunlight, min_value 840 hours of sunlight, mean_value 2523.9 hours of sunlight. Histograms and box plots were plotted to gain a deeper understanding of the descriptive statistics.\n",
        "\n",
        "the four countries which experience the most sunlight after Namibia are Egypt, Sudan, United Arab Emirates, and Oman, all averaging more than 3400 hours of sunlight per year. The countries which experience the least sunlight following the Faroe Islands are, Iceland, Norway, Saint Pierreand Miquelon, and United Kingdom, all averaging less than 1500 hours of sunlight.\n",
        "\n",
        "the heatmap in the section above depicts the average hours of sunlight per per month. the heatmap provides an easy to understand chart from which we derive that the most hours of sunlight, depict from dense deep blue colors, are in the months may til august.\n"
      ],
      "metadata": {
        "id": "YqJUBjgX12s-"
      }
    }
  ]
}