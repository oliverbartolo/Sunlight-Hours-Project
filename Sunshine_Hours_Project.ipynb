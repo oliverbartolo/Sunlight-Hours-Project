{
  "nbformat": 4,
  "nbformat_minor": 0,
  "metadata": {
    "colab": {
      "provenance": [],
      "collapsed_sections": [
        "Me6eOOAuoE7X"
      ]
    },
    "kernelspec": {
      "name": "python3",
      "display_name": "Python 3"
    },
    "language_info": {
      "name": "python"
    }
  },
  "cells": [
    {
      "cell_type": "code",
      "execution_count": 44,
      "metadata": {
        "id": "ySmsNnSJnr-2"
      },
      "outputs": [],
      "source": [
        "import pandas as pd\n",
        "import numpy as np\n",
        "import seaborn as sns\n",
        "import matplotlib.pyplot as plt"
      ]
    },
    {
      "cell_type": "markdown",
      "source": [
        "## Data Setup"
      ],
      "metadata": {
        "id": "Me6eOOAuoE7X"
      }
    },
    {
      "cell_type": "code",
      "source": [
        "df = pd.read_csv(\"/content/Sunshine hours for cities in the world.csv\")"
      ],
      "metadata": {
        "id": "93fHCZHIn9jd"
      },
      "execution_count": 38,
      "outputs": []
    },
    {
      "cell_type": "code",
      "source": [
        "df.duplicated().sum()"
      ],
      "metadata": {
        "colab": {
          "base_uri": "https://localhost:8080/"
        },
        "id": "clnSfFtwNx3I",
        "outputId": "6a378c66-81e5-4da9-b2b6-6cc02c1fa2f1"
      },
      "execution_count": 39,
      "outputs": [
        {
          "output_type": "execute_result",
          "data": {
            "text/plain": [
              "0"
            ]
          },
          "metadata": {},
          "execution_count": 39
        }
      ]
    },
    {
      "cell_type": "code",
      "source": [
        "df.isnull().sum()"
      ],
      "metadata": {
        "colab": {
          "base_uri": "https://localhost:8080/"
        },
        "id": "t7YpHqEVN4fo",
        "outputId": "6fd913c9-9794-4c87-b768-18fa015427ea"
      },
      "execution_count": 40,
      "outputs": [
        {
          "output_type": "execute_result",
          "data": {
            "text/plain": [
              "Country    0\n",
              "City       0\n",
              "Jan        0\n",
              "Feb        0\n",
              "Mar        0\n",
              "Apr        0\n",
              "May        0\n",
              "Jun        0\n",
              "Jul        0\n",
              "Aug        0\n",
              "Sep        0\n",
              "Oct        0\n",
              "Nov        0\n",
              "Dec        0\n",
              "Year       0\n",
              "dtype: int64"
            ]
          },
          "metadata": {},
          "execution_count": 40
        }
      ]
    },
    {
      "cell_type": "code",
      "source": [
        "df.head(25)"
      ],
      "metadata": {
        "id": "WKw61jU-oI4h",
        "outputId": "dad09c2e-113b-4110-83bf-ac6c69d9f42f",
        "colab": {
          "base_uri": "https://localhost:8080/",
          "height": 0
        }
      },
      "execution_count": 41,
      "outputs": [
        {
          "output_type": "execute_result",
          "data": {
            "text/plain": [
              "        Country         City    Jan    Feb    Mar    Apr    May    Jun    Jul  \\\n",
              "0   Ivory Coast       Gagnoa  183.0  180.0  196.0  188.0  181.0  118.0   97.0   \n",
              "1   Ivory Coast       Bouaké  242.0  224.0  219.0  194.0  208.0  145.0  104.0   \n",
              "2   Ivory Coast      Abidjan  223.0  223.0  239.0  214.0  205.0  128.0  137.0   \n",
              "3   Ivory Coast      Odienné  242.0  220.2  217.3  214.7  248.8  221.8  183.5   \n",
              "4   Ivory Coast        Ferké  279.0  249.0  253.0  229.0  251.0  221.0  183.0   \n",
              "5         Benin      Cotonou  213.9  210.0  223.2  219.0  213.9  141.0  136.4   \n",
              "6         Benin      Parakou  261.0  243.0  252.0  230.0  239.0  193.0  133.0   \n",
              "7         Benin        Kandi  279.0  257.6  260.4  255.0  272.8  252.0  223.2   \n",
              "8          Togo         Lomé  217.5  214.0  227.9  201.9  208.6  146.0  141.6   \n",
              "9          Togo        Mango  285.0  254.0  270.0  241.0  261.0  219.0  168.0   \n",
              "10        Ghana        Accra  217.0  226.0  217.0  210.0  217.0  150.0  155.0   \n",
              "11        Ghana       Tamale  265.6  235.7  249.6  229.0  248.0  212.0  171.5   \n",
              "12        Ghana       Kumasi  186.6  187.2  205.4  204.0  204.7  146.3  101.2   \n",
              "13     Cameroon       Garoua  275.0  252.6  260.1  245.4  256.7  224.4  194.0   \n",
              "14     Cameroon  N'Gaoundéré  286.4  258.7  235.4  195.5  195.4  165.7  128.0   \n",
              "15     Cameroon       Douala  184.0  179.0  170.0  174.0  169.0  107.0   55.0   \n",
              "16     Cameroon      Yaoundé  177.0  172.0  149.0  153.0  158.0  112.0   85.0   \n",
              "17        Gabon   Libreville  175.2  176.8  176.9  176.8  159.5  130.6  119.2   \n",
              "18        Gabon  Port-Gentil  150.4  160.8  154.5  151.5  147.8  156.3  163.1   \n",
              "19      Nigeria        Lagos  164.3  169.5  173.6  180.0  176.7  114.0   99.2   \n",
              "20      Nigeria      Makurdi  236.0  226.0  223.0  216.0  223.0  177.0  143.0   \n",
              "21      Nigeria          Jos  307.0  274.0  260.0  220.0  208.0  201.0  151.0   \n",
              "22      Nigeria         Kano  275.0  255.0  267.0  252.0  273.0  261.0  233.0   \n",
              "23      Nigeria       Sokoto  279.0  269.0  282.0  255.0  279.0  282.0  229.0   \n",
              "24        Sudan   Port Sudan  214.0  230.0  282.0  312.0  338.0  309.0  307.0   \n",
              "\n",
              "      Aug    Sep    Oct    Nov    Dec    Year  \n",
              "0    80.0  110.0  155.0  171.0  164.0  1823.0  \n",
              "1    82.0  115.0  170.0  191.0  198.0  2092.0  \n",
              "2   125.0  139.0  215.0  224.0  224.0  2296.0  \n",
              "3   174.5  185.4  235.8  252.0  242.6  2638.6  \n",
              "4   151.0  173.0  245.0  261.0  262.0  2757.0  \n",
              "5   148.8  165.0  207.7  243.0  223.2  2345.2  \n",
              "6   104.0  129.0  217.0  252.0  248.0  2501.0  \n",
              "7   195.3  213.0  275.9  282.0  279.0  3045.2  \n",
              "8   148.8  152.5  205.5  234.0  235.6  2333.9  \n",
              "9   131.0  161.0  273.0  284.0  279.0  2826.0  \n",
              "10  155.0  180.0  217.0  240.0  248.0  2432.0  \n",
              "11  139.0  161.0  260.9  283.0  263.5  2718.7  \n",
              "12   77.0  106.2  161.4  193.8  178.0  1951.8  \n",
              "13  187.2  204.5  261.5  279.2  286.5  2927.1  \n",
              "14  127.8  139.0  184.0  264.1  291.4  2471.4  \n",
              "15   46.0   79.0  120.0  160.0  175.0  1618.0  \n",
              "16   83.0   97.0  120.0  159.0  179.0  1644.0  \n",
              "17   90.4   95.9  112.9  134.6  167.8  1716.6  \n",
              "18  135.3  125.7  116.1  115.1  147.2  1723.8  \n",
              "19  108.5  114.0  167.4  186.0  192.2  1845.4  \n",
              "20  118.0  144.0  198.0  228.0  248.0  2380.0  \n",
              "21  127.0  171.0  242.0  294.0  313.0  2768.0  \n",
              "22  186.0  237.0  295.0  297.0  285.0  3114.0  \n",
              "23  208.0  243.0  307.0  297.0  288.0  3238.0  \n",
              "24  298.0  300.0  307.0  249.0  236.0  3382.0  "
            ],
            "text/html": [
              "\n",
              "  <div id=\"df-b8b95f6e-8bee-4ef9-b401-618b3d2aa5ba\" class=\"colab-df-container\">\n",
              "    <div>\n",
              "<style scoped>\n",
              "    .dataframe tbody tr th:only-of-type {\n",
              "        vertical-align: middle;\n",
              "    }\n",
              "\n",
              "    .dataframe tbody tr th {\n",
              "        vertical-align: top;\n",
              "    }\n",
              "\n",
              "    .dataframe thead th {\n",
              "        text-align: right;\n",
              "    }\n",
              "</style>\n",
              "<table border=\"1\" class=\"dataframe\">\n",
              "  <thead>\n",
              "    <tr style=\"text-align: right;\">\n",
              "      <th></th>\n",
              "      <th>Country</th>\n",
              "      <th>City</th>\n",
              "      <th>Jan</th>\n",
              "      <th>Feb</th>\n",
              "      <th>Mar</th>\n",
              "      <th>Apr</th>\n",
              "      <th>May</th>\n",
              "      <th>Jun</th>\n",
              "      <th>Jul</th>\n",
              "      <th>Aug</th>\n",
              "      <th>Sep</th>\n",
              "      <th>Oct</th>\n",
              "      <th>Nov</th>\n",
              "      <th>Dec</th>\n",
              "      <th>Year</th>\n",
              "    </tr>\n",
              "  </thead>\n",
              "  <tbody>\n",
              "    <tr>\n",
              "      <th>0</th>\n",
              "      <td>Ivory Coast</td>\n",
              "      <td>Gagnoa</td>\n",
              "      <td>183.0</td>\n",
              "      <td>180.0</td>\n",
              "      <td>196.0</td>\n",
              "      <td>188.0</td>\n",
              "      <td>181.0</td>\n",
              "      <td>118.0</td>\n",
              "      <td>97.0</td>\n",
              "      <td>80.0</td>\n",
              "      <td>110.0</td>\n",
              "      <td>155.0</td>\n",
              "      <td>171.0</td>\n",
              "      <td>164.0</td>\n",
              "      <td>1823.0</td>\n",
              "    </tr>\n",
              "    <tr>\n",
              "      <th>1</th>\n",
              "      <td>Ivory Coast</td>\n",
              "      <td>Bouaké</td>\n",
              "      <td>242.0</td>\n",
              "      <td>224.0</td>\n",
              "      <td>219.0</td>\n",
              "      <td>194.0</td>\n",
              "      <td>208.0</td>\n",
              "      <td>145.0</td>\n",
              "      <td>104.0</td>\n",
              "      <td>82.0</td>\n",
              "      <td>115.0</td>\n",
              "      <td>170.0</td>\n",
              "      <td>191.0</td>\n",
              "      <td>198.0</td>\n",
              "      <td>2092.0</td>\n",
              "    </tr>\n",
              "    <tr>\n",
              "      <th>2</th>\n",
              "      <td>Ivory Coast</td>\n",
              "      <td>Abidjan</td>\n",
              "      <td>223.0</td>\n",
              "      <td>223.0</td>\n",
              "      <td>239.0</td>\n",
              "      <td>214.0</td>\n",
              "      <td>205.0</td>\n",
              "      <td>128.0</td>\n",
              "      <td>137.0</td>\n",
              "      <td>125.0</td>\n",
              "      <td>139.0</td>\n",
              "      <td>215.0</td>\n",
              "      <td>224.0</td>\n",
              "      <td>224.0</td>\n",
              "      <td>2296.0</td>\n",
              "    </tr>\n",
              "    <tr>\n",
              "      <th>3</th>\n",
              "      <td>Ivory Coast</td>\n",
              "      <td>Odienné</td>\n",
              "      <td>242.0</td>\n",
              "      <td>220.2</td>\n",
              "      <td>217.3</td>\n",
              "      <td>214.7</td>\n",
              "      <td>248.8</td>\n",
              "      <td>221.8</td>\n",
              "      <td>183.5</td>\n",
              "      <td>174.5</td>\n",
              "      <td>185.4</td>\n",
              "      <td>235.8</td>\n",
              "      <td>252.0</td>\n",
              "      <td>242.6</td>\n",
              "      <td>2638.6</td>\n",
              "    </tr>\n",
              "    <tr>\n",
              "      <th>4</th>\n",
              "      <td>Ivory Coast</td>\n",
              "      <td>Ferké</td>\n",
              "      <td>279.0</td>\n",
              "      <td>249.0</td>\n",
              "      <td>253.0</td>\n",
              "      <td>229.0</td>\n",
              "      <td>251.0</td>\n",
              "      <td>221.0</td>\n",
              "      <td>183.0</td>\n",
              "      <td>151.0</td>\n",
              "      <td>173.0</td>\n",
              "      <td>245.0</td>\n",
              "      <td>261.0</td>\n",
              "      <td>262.0</td>\n",
              "      <td>2757.0</td>\n",
              "    </tr>\n",
              "    <tr>\n",
              "      <th>5</th>\n",
              "      <td>Benin</td>\n",
              "      <td>Cotonou</td>\n",
              "      <td>213.9</td>\n",
              "      <td>210.0</td>\n",
              "      <td>223.2</td>\n",
              "      <td>219.0</td>\n",
              "      <td>213.9</td>\n",
              "      <td>141.0</td>\n",
              "      <td>136.4</td>\n",
              "      <td>148.8</td>\n",
              "      <td>165.0</td>\n",
              "      <td>207.7</td>\n",
              "      <td>243.0</td>\n",
              "      <td>223.2</td>\n",
              "      <td>2345.2</td>\n",
              "    </tr>\n",
              "    <tr>\n",
              "      <th>6</th>\n",
              "      <td>Benin</td>\n",
              "      <td>Parakou</td>\n",
              "      <td>261.0</td>\n",
              "      <td>243.0</td>\n",
              "      <td>252.0</td>\n",
              "      <td>230.0</td>\n",
              "      <td>239.0</td>\n",
              "      <td>193.0</td>\n",
              "      <td>133.0</td>\n",
              "      <td>104.0</td>\n",
              "      <td>129.0</td>\n",
              "      <td>217.0</td>\n",
              "      <td>252.0</td>\n",
              "      <td>248.0</td>\n",
              "      <td>2501.0</td>\n",
              "    </tr>\n",
              "    <tr>\n",
              "      <th>7</th>\n",
              "      <td>Benin</td>\n",
              "      <td>Kandi</td>\n",
              "      <td>279.0</td>\n",
              "      <td>257.6</td>\n",
              "      <td>260.4</td>\n",
              "      <td>255.0</td>\n",
              "      <td>272.8</td>\n",
              "      <td>252.0</td>\n",
              "      <td>223.2</td>\n",
              "      <td>195.3</td>\n",
              "      <td>213.0</td>\n",
              "      <td>275.9</td>\n",
              "      <td>282.0</td>\n",
              "      <td>279.0</td>\n",
              "      <td>3045.2</td>\n",
              "    </tr>\n",
              "    <tr>\n",
              "      <th>8</th>\n",
              "      <td>Togo</td>\n",
              "      <td>Lomé</td>\n",
              "      <td>217.5</td>\n",
              "      <td>214.0</td>\n",
              "      <td>227.9</td>\n",
              "      <td>201.9</td>\n",
              "      <td>208.6</td>\n",
              "      <td>146.0</td>\n",
              "      <td>141.6</td>\n",
              "      <td>148.8</td>\n",
              "      <td>152.5</td>\n",
              "      <td>205.5</td>\n",
              "      <td>234.0</td>\n",
              "      <td>235.6</td>\n",
              "      <td>2333.9</td>\n",
              "    </tr>\n",
              "    <tr>\n",
              "      <th>9</th>\n",
              "      <td>Togo</td>\n",
              "      <td>Mango</td>\n",
              "      <td>285.0</td>\n",
              "      <td>254.0</td>\n",
              "      <td>270.0</td>\n",
              "      <td>241.0</td>\n",
              "      <td>261.0</td>\n",
              "      <td>219.0</td>\n",
              "      <td>168.0</td>\n",
              "      <td>131.0</td>\n",
              "      <td>161.0</td>\n",
              "      <td>273.0</td>\n",
              "      <td>284.0</td>\n",
              "      <td>279.0</td>\n",
              "      <td>2826.0</td>\n",
              "    </tr>\n",
              "    <tr>\n",
              "      <th>10</th>\n",
              "      <td>Ghana</td>\n",
              "      <td>Accra</td>\n",
              "      <td>217.0</td>\n",
              "      <td>226.0</td>\n",
              "      <td>217.0</td>\n",
              "      <td>210.0</td>\n",
              "      <td>217.0</td>\n",
              "      <td>150.0</td>\n",
              "      <td>155.0</td>\n",
              "      <td>155.0</td>\n",
              "      <td>180.0</td>\n",
              "      <td>217.0</td>\n",
              "      <td>240.0</td>\n",
              "      <td>248.0</td>\n",
              "      <td>2432.0</td>\n",
              "    </tr>\n",
              "    <tr>\n",
              "      <th>11</th>\n",
              "      <td>Ghana</td>\n",
              "      <td>Tamale</td>\n",
              "      <td>265.6</td>\n",
              "      <td>235.7</td>\n",
              "      <td>249.6</td>\n",
              "      <td>229.0</td>\n",
              "      <td>248.0</td>\n",
              "      <td>212.0</td>\n",
              "      <td>171.5</td>\n",
              "      <td>139.0</td>\n",
              "      <td>161.0</td>\n",
              "      <td>260.9</td>\n",
              "      <td>283.0</td>\n",
              "      <td>263.5</td>\n",
              "      <td>2718.7</td>\n",
              "    </tr>\n",
              "    <tr>\n",
              "      <th>12</th>\n",
              "      <td>Ghana</td>\n",
              "      <td>Kumasi</td>\n",
              "      <td>186.6</td>\n",
              "      <td>187.2</td>\n",
              "      <td>205.4</td>\n",
              "      <td>204.0</td>\n",
              "      <td>204.7</td>\n",
              "      <td>146.3</td>\n",
              "      <td>101.2</td>\n",
              "      <td>77.0</td>\n",
              "      <td>106.2</td>\n",
              "      <td>161.4</td>\n",
              "      <td>193.8</td>\n",
              "      <td>178.0</td>\n",
              "      <td>1951.8</td>\n",
              "    </tr>\n",
              "    <tr>\n",
              "      <th>13</th>\n",
              "      <td>Cameroon</td>\n",
              "      <td>Garoua</td>\n",
              "      <td>275.0</td>\n",
              "      <td>252.6</td>\n",
              "      <td>260.1</td>\n",
              "      <td>245.4</td>\n",
              "      <td>256.7</td>\n",
              "      <td>224.4</td>\n",
              "      <td>194.0</td>\n",
              "      <td>187.2</td>\n",
              "      <td>204.5</td>\n",
              "      <td>261.5</td>\n",
              "      <td>279.2</td>\n",
              "      <td>286.5</td>\n",
              "      <td>2927.1</td>\n",
              "    </tr>\n",
              "    <tr>\n",
              "      <th>14</th>\n",
              "      <td>Cameroon</td>\n",
              "      <td>N'Gaoundéré</td>\n",
              "      <td>286.4</td>\n",
              "      <td>258.7</td>\n",
              "      <td>235.4</td>\n",
              "      <td>195.5</td>\n",
              "      <td>195.4</td>\n",
              "      <td>165.7</td>\n",
              "      <td>128.0</td>\n",
              "      <td>127.8</td>\n",
              "      <td>139.0</td>\n",
              "      <td>184.0</td>\n",
              "      <td>264.1</td>\n",
              "      <td>291.4</td>\n",
              "      <td>2471.4</td>\n",
              "    </tr>\n",
              "    <tr>\n",
              "      <th>15</th>\n",
              "      <td>Cameroon</td>\n",
              "      <td>Douala</td>\n",
              "      <td>184.0</td>\n",
              "      <td>179.0</td>\n",
              "      <td>170.0</td>\n",
              "      <td>174.0</td>\n",
              "      <td>169.0</td>\n",
              "      <td>107.0</td>\n",
              "      <td>55.0</td>\n",
              "      <td>46.0</td>\n",
              "      <td>79.0</td>\n",
              "      <td>120.0</td>\n",
              "      <td>160.0</td>\n",
              "      <td>175.0</td>\n",
              "      <td>1618.0</td>\n",
              "    </tr>\n",
              "    <tr>\n",
              "      <th>16</th>\n",
              "      <td>Cameroon</td>\n",
              "      <td>Yaoundé</td>\n",
              "      <td>177.0</td>\n",
              "      <td>172.0</td>\n",
              "      <td>149.0</td>\n",
              "      <td>153.0</td>\n",
              "      <td>158.0</td>\n",
              "      <td>112.0</td>\n",
              "      <td>85.0</td>\n",
              "      <td>83.0</td>\n",
              "      <td>97.0</td>\n",
              "      <td>120.0</td>\n",
              "      <td>159.0</td>\n",
              "      <td>179.0</td>\n",
              "      <td>1644.0</td>\n",
              "    </tr>\n",
              "    <tr>\n",
              "      <th>17</th>\n",
              "      <td>Gabon</td>\n",
              "      <td>Libreville</td>\n",
              "      <td>175.2</td>\n",
              "      <td>176.8</td>\n",
              "      <td>176.9</td>\n",
              "      <td>176.8</td>\n",
              "      <td>159.5</td>\n",
              "      <td>130.6</td>\n",
              "      <td>119.2</td>\n",
              "      <td>90.4</td>\n",
              "      <td>95.9</td>\n",
              "      <td>112.9</td>\n",
              "      <td>134.6</td>\n",
              "      <td>167.8</td>\n",
              "      <td>1716.6</td>\n",
              "    </tr>\n",
              "    <tr>\n",
              "      <th>18</th>\n",
              "      <td>Gabon</td>\n",
              "      <td>Port-Gentil</td>\n",
              "      <td>150.4</td>\n",
              "      <td>160.8</td>\n",
              "      <td>154.5</td>\n",
              "      <td>151.5</td>\n",
              "      <td>147.8</td>\n",
              "      <td>156.3</td>\n",
              "      <td>163.1</td>\n",
              "      <td>135.3</td>\n",
              "      <td>125.7</td>\n",
              "      <td>116.1</td>\n",
              "      <td>115.1</td>\n",
              "      <td>147.2</td>\n",
              "      <td>1723.8</td>\n",
              "    </tr>\n",
              "    <tr>\n",
              "      <th>19</th>\n",
              "      <td>Nigeria</td>\n",
              "      <td>Lagos</td>\n",
              "      <td>164.3</td>\n",
              "      <td>169.5</td>\n",
              "      <td>173.6</td>\n",
              "      <td>180.0</td>\n",
              "      <td>176.7</td>\n",
              "      <td>114.0</td>\n",
              "      <td>99.2</td>\n",
              "      <td>108.5</td>\n",
              "      <td>114.0</td>\n",
              "      <td>167.4</td>\n",
              "      <td>186.0</td>\n",
              "      <td>192.2</td>\n",
              "      <td>1845.4</td>\n",
              "    </tr>\n",
              "    <tr>\n",
              "      <th>20</th>\n",
              "      <td>Nigeria</td>\n",
              "      <td>Makurdi</td>\n",
              "      <td>236.0</td>\n",
              "      <td>226.0</td>\n",
              "      <td>223.0</td>\n",
              "      <td>216.0</td>\n",
              "      <td>223.0</td>\n",
              "      <td>177.0</td>\n",
              "      <td>143.0</td>\n",
              "      <td>118.0</td>\n",
              "      <td>144.0</td>\n",
              "      <td>198.0</td>\n",
              "      <td>228.0</td>\n",
              "      <td>248.0</td>\n",
              "      <td>2380.0</td>\n",
              "    </tr>\n",
              "    <tr>\n",
              "      <th>21</th>\n",
              "      <td>Nigeria</td>\n",
              "      <td>Jos</td>\n",
              "      <td>307.0</td>\n",
              "      <td>274.0</td>\n",
              "      <td>260.0</td>\n",
              "      <td>220.0</td>\n",
              "      <td>208.0</td>\n",
              "      <td>201.0</td>\n",
              "      <td>151.0</td>\n",
              "      <td>127.0</td>\n",
              "      <td>171.0</td>\n",
              "      <td>242.0</td>\n",
              "      <td>294.0</td>\n",
              "      <td>313.0</td>\n",
              "      <td>2768.0</td>\n",
              "    </tr>\n",
              "    <tr>\n",
              "      <th>22</th>\n",
              "      <td>Nigeria</td>\n",
              "      <td>Kano</td>\n",
              "      <td>275.0</td>\n",
              "      <td>255.0</td>\n",
              "      <td>267.0</td>\n",
              "      <td>252.0</td>\n",
              "      <td>273.0</td>\n",
              "      <td>261.0</td>\n",
              "      <td>233.0</td>\n",
              "      <td>186.0</td>\n",
              "      <td>237.0</td>\n",
              "      <td>295.0</td>\n",
              "      <td>297.0</td>\n",
              "      <td>285.0</td>\n",
              "      <td>3114.0</td>\n",
              "    </tr>\n",
              "    <tr>\n",
              "      <th>23</th>\n",
              "      <td>Nigeria</td>\n",
              "      <td>Sokoto</td>\n",
              "      <td>279.0</td>\n",
              "      <td>269.0</td>\n",
              "      <td>282.0</td>\n",
              "      <td>255.0</td>\n",
              "      <td>279.0</td>\n",
              "      <td>282.0</td>\n",
              "      <td>229.0</td>\n",
              "      <td>208.0</td>\n",
              "      <td>243.0</td>\n",
              "      <td>307.0</td>\n",
              "      <td>297.0</td>\n",
              "      <td>288.0</td>\n",
              "      <td>3238.0</td>\n",
              "    </tr>\n",
              "    <tr>\n",
              "      <th>24</th>\n",
              "      <td>Sudan</td>\n",
              "      <td>Port Sudan</td>\n",
              "      <td>214.0</td>\n",
              "      <td>230.0</td>\n",
              "      <td>282.0</td>\n",
              "      <td>312.0</td>\n",
              "      <td>338.0</td>\n",
              "      <td>309.0</td>\n",
              "      <td>307.0</td>\n",
              "      <td>298.0</td>\n",
              "      <td>300.0</td>\n",
              "      <td>307.0</td>\n",
              "      <td>249.0</td>\n",
              "      <td>236.0</td>\n",
              "      <td>3382.0</td>\n",
              "    </tr>\n",
              "  </tbody>\n",
              "</table>\n",
              "</div>\n",
              "    <div class=\"colab-df-buttons\">\n",
              "\n",
              "  <div class=\"colab-df-container\">\n",
              "    <button class=\"colab-df-convert\" onclick=\"convertToInteractive('df-b8b95f6e-8bee-4ef9-b401-618b3d2aa5ba')\"\n",
              "            title=\"Convert this dataframe to an interactive table.\"\n",
              "            style=\"display:none;\">\n",
              "\n",
              "  <svg xmlns=\"http://www.w3.org/2000/svg\" height=\"24px\" viewBox=\"0 -960 960 960\">\n",
              "    <path d=\"M120-120v-720h720v720H120Zm60-500h600v-160H180v160Zm220 220h160v-160H400v160Zm0 220h160v-160H400v160ZM180-400h160v-160H180v160Zm440 0h160v-160H620v160ZM180-180h160v-160H180v160Zm440 0h160v-160H620v160Z\"/>\n",
              "  </svg>\n",
              "    </button>\n",
              "\n",
              "  <style>\n",
              "    .colab-df-container {\n",
              "      display:flex;\n",
              "      gap: 12px;\n",
              "    }\n",
              "\n",
              "    .colab-df-convert {\n",
              "      background-color: #E8F0FE;\n",
              "      border: none;\n",
              "      border-radius: 50%;\n",
              "      cursor: pointer;\n",
              "      display: none;\n",
              "      fill: #1967D2;\n",
              "      height: 32px;\n",
              "      padding: 0 0 0 0;\n",
              "      width: 32px;\n",
              "    }\n",
              "\n",
              "    .colab-df-convert:hover {\n",
              "      background-color: #E2EBFA;\n",
              "      box-shadow: 0px 1px 2px rgba(60, 64, 67, 0.3), 0px 1px 3px 1px rgba(60, 64, 67, 0.15);\n",
              "      fill: #174EA6;\n",
              "    }\n",
              "\n",
              "    .colab-df-buttons div {\n",
              "      margin-bottom: 4px;\n",
              "    }\n",
              "\n",
              "    [theme=dark] .colab-df-convert {\n",
              "      background-color: #3B4455;\n",
              "      fill: #D2E3FC;\n",
              "    }\n",
              "\n",
              "    [theme=dark] .colab-df-convert:hover {\n",
              "      background-color: #434B5C;\n",
              "      box-shadow: 0px 1px 3px 1px rgba(0, 0, 0, 0.15);\n",
              "      filter: drop-shadow(0px 1px 2px rgba(0, 0, 0, 0.3));\n",
              "      fill: #FFFFFF;\n",
              "    }\n",
              "  </style>\n",
              "\n",
              "    <script>\n",
              "      const buttonEl =\n",
              "        document.querySelector('#df-b8b95f6e-8bee-4ef9-b401-618b3d2aa5ba button.colab-df-convert');\n",
              "      buttonEl.style.display =\n",
              "        google.colab.kernel.accessAllowed ? 'block' : 'none';\n",
              "\n",
              "      async function convertToInteractive(key) {\n",
              "        const element = document.querySelector('#df-b8b95f6e-8bee-4ef9-b401-618b3d2aa5ba');\n",
              "        const dataTable =\n",
              "          await google.colab.kernel.invokeFunction('convertToInteractive',\n",
              "                                                    [key], {});\n",
              "        if (!dataTable) return;\n",
              "\n",
              "        const docLinkHtml = 'Like what you see? Visit the ' +\n",
              "          '<a target=\"_blank\" href=https://colab.research.google.com/notebooks/data_table.ipynb>data table notebook</a>'\n",
              "          + ' to learn more about interactive tables.';\n",
              "        element.innerHTML = '';\n",
              "        dataTable['output_type'] = 'display_data';\n",
              "        await google.colab.output.renderOutput(dataTable, element);\n",
              "        const docLink = document.createElement('div');\n",
              "        docLink.innerHTML = docLinkHtml;\n",
              "        element.appendChild(docLink);\n",
              "      }\n",
              "    </script>\n",
              "  </div>\n",
              "\n",
              "\n",
              "<div id=\"df-322bb399-489c-4ee4-b55a-4533277e5dd5\">\n",
              "  <button class=\"colab-df-quickchart\" onclick=\"quickchart('df-322bb399-489c-4ee4-b55a-4533277e5dd5')\"\n",
              "            title=\"Suggest charts.\"\n",
              "            style=\"display:none;\">\n",
              "\n",
              "<svg xmlns=\"http://www.w3.org/2000/svg\" height=\"24px\"viewBox=\"0 0 24 24\"\n",
              "     width=\"24px\">\n",
              "    <g>\n",
              "        <path d=\"M19 3H5c-1.1 0-2 .9-2 2v14c0 1.1.9 2 2 2h14c1.1 0 2-.9 2-2V5c0-1.1-.9-2-2-2zM9 17H7v-7h2v7zm4 0h-2V7h2v10zm4 0h-2v-4h2v4z\"/>\n",
              "    </g>\n",
              "</svg>\n",
              "  </button>\n",
              "\n",
              "<style>\n",
              "  .colab-df-quickchart {\n",
              "      --bg-color: #E8F0FE;\n",
              "      --fill-color: #1967D2;\n",
              "      --hover-bg-color: #E2EBFA;\n",
              "      --hover-fill-color: #174EA6;\n",
              "      --disabled-fill-color: #AAA;\n",
              "      --disabled-bg-color: #DDD;\n",
              "  }\n",
              "\n",
              "  [theme=dark] .colab-df-quickchart {\n",
              "      --bg-color: #3B4455;\n",
              "      --fill-color: #D2E3FC;\n",
              "      --hover-bg-color: #434B5C;\n",
              "      --hover-fill-color: #FFFFFF;\n",
              "      --disabled-bg-color: #3B4455;\n",
              "      --disabled-fill-color: #666;\n",
              "  }\n",
              "\n",
              "  .colab-df-quickchart {\n",
              "    background-color: var(--bg-color);\n",
              "    border: none;\n",
              "    border-radius: 50%;\n",
              "    cursor: pointer;\n",
              "    display: none;\n",
              "    fill: var(--fill-color);\n",
              "    height: 32px;\n",
              "    padding: 0;\n",
              "    width: 32px;\n",
              "  }\n",
              "\n",
              "  .colab-df-quickchart:hover {\n",
              "    background-color: var(--hover-bg-color);\n",
              "    box-shadow: 0 1px 2px rgba(60, 64, 67, 0.3), 0 1px 3px 1px rgba(60, 64, 67, 0.15);\n",
              "    fill: var(--button-hover-fill-color);\n",
              "  }\n",
              "\n",
              "  .colab-df-quickchart-complete:disabled,\n",
              "  .colab-df-quickchart-complete:disabled:hover {\n",
              "    background-color: var(--disabled-bg-color);\n",
              "    fill: var(--disabled-fill-color);\n",
              "    box-shadow: none;\n",
              "  }\n",
              "\n",
              "  .colab-df-spinner {\n",
              "    border: 2px solid var(--fill-color);\n",
              "    border-color: transparent;\n",
              "    border-bottom-color: var(--fill-color);\n",
              "    animation:\n",
              "      spin 1s steps(1) infinite;\n",
              "  }\n",
              "\n",
              "  @keyframes spin {\n",
              "    0% {\n",
              "      border-color: transparent;\n",
              "      border-bottom-color: var(--fill-color);\n",
              "      border-left-color: var(--fill-color);\n",
              "    }\n",
              "    20% {\n",
              "      border-color: transparent;\n",
              "      border-left-color: var(--fill-color);\n",
              "      border-top-color: var(--fill-color);\n",
              "    }\n",
              "    30% {\n",
              "      border-color: transparent;\n",
              "      border-left-color: var(--fill-color);\n",
              "      border-top-color: var(--fill-color);\n",
              "      border-right-color: var(--fill-color);\n",
              "    }\n",
              "    40% {\n",
              "      border-color: transparent;\n",
              "      border-right-color: var(--fill-color);\n",
              "      border-top-color: var(--fill-color);\n",
              "    }\n",
              "    60% {\n",
              "      border-color: transparent;\n",
              "      border-right-color: var(--fill-color);\n",
              "    }\n",
              "    80% {\n",
              "      border-color: transparent;\n",
              "      border-right-color: var(--fill-color);\n",
              "      border-bottom-color: var(--fill-color);\n",
              "    }\n",
              "    90% {\n",
              "      border-color: transparent;\n",
              "      border-bottom-color: var(--fill-color);\n",
              "    }\n",
              "  }\n",
              "</style>\n",
              "\n",
              "  <script>\n",
              "    async function quickchart(key) {\n",
              "      const quickchartButtonEl =\n",
              "        document.querySelector('#' + key + ' button');\n",
              "      quickchartButtonEl.disabled = true;  // To prevent multiple clicks.\n",
              "      quickchartButtonEl.classList.add('colab-df-spinner');\n",
              "      try {\n",
              "        const charts = await google.colab.kernel.invokeFunction(\n",
              "            'suggestCharts', [key], {});\n",
              "      } catch (error) {\n",
              "        console.error('Error during call to suggestCharts:', error);\n",
              "      }\n",
              "      quickchartButtonEl.classList.remove('colab-df-spinner');\n",
              "      quickchartButtonEl.classList.add('colab-df-quickchart-complete');\n",
              "    }\n",
              "    (() => {\n",
              "      let quickchartButtonEl =\n",
              "        document.querySelector('#df-322bb399-489c-4ee4-b55a-4533277e5dd5 button');\n",
              "      quickchartButtonEl.style.display =\n",
              "        google.colab.kernel.accessAllowed ? 'block' : 'none';\n",
              "    })();\n",
              "  </script>\n",
              "</div>\n",
              "    </div>\n",
              "  </div>\n"
            ]
          },
          "metadata": {},
          "execution_count": 41
        }
      ]
    },
    {
      "cell_type": "code",
      "source": [
        "df = df.rename(columns={'Year': 'Avg_Year'})"
      ],
      "metadata": {
        "id": "yjk-Z8BjstBE"
      },
      "execution_count": 42,
      "outputs": []
    },
    {
      "cell_type": "code",
      "source": [
        "df.info()"
      ],
      "metadata": {
        "colab": {
          "base_uri": "https://localhost:8080/"
        },
        "id": "lexC952IqMTM",
        "outputId": "108e2303-ca70-479e-cbae-5506e1a9d266"
      },
      "execution_count": 43,
      "outputs": [
        {
          "output_type": "stream",
          "name": "stdout",
          "text": [
            "<class 'pandas.core.frame.DataFrame'>\n",
            "RangeIndex: 392 entries, 0 to 391\n",
            "Data columns (total 15 columns):\n",
            " #   Column    Non-Null Count  Dtype  \n",
            "---  ------    --------------  -----  \n",
            " 0   Country   392 non-null    object \n",
            " 1   City      392 non-null    object \n",
            " 2   Jan       392 non-null    float64\n",
            " 3   Feb       392 non-null    float64\n",
            " 4   Mar       392 non-null    float64\n",
            " 5   Apr       392 non-null    float64\n",
            " 6   May       392 non-null    float64\n",
            " 7   Jun       392 non-null    float64\n",
            " 8   Jul       392 non-null    float64\n",
            " 9   Aug       392 non-null    float64\n",
            " 10  Sep       392 non-null    float64\n",
            " 11  Oct       392 non-null    float64\n",
            " 12  Nov       392 non-null    float64\n",
            " 13  Dec       392 non-null    float64\n",
            " 14  Avg_Year  392 non-null    float64\n",
            "dtypes: float64(13), object(2)\n",
            "memory usage: 46.1+ KB\n"
          ]
        }
      ]
    },
    {
      "cell_type": "markdown",
      "source": [
        "## Data Analysis"
      ],
      "metadata": {
        "id": "ooBe9UUGqOf6"
      }
    },
    {
      "cell_type": "code",
      "source": [
        "unique_countries = df['Country'].unique()\n",
        "print(unique_countries)"
      ],
      "metadata": {
        "colab": {
          "base_uri": "https://localhost:8080/"
        },
        "id": "ZAS6ZaPHpZcm",
        "outputId": "b0fddd40-ec6c-4ba7-d42d-ad928f3a847f"
      },
      "execution_count": 25,
      "outputs": [
        {
          "output_type": "stream",
          "name": "stdout",
          "text": [
            "['Ivory Coast' 'Benin' 'Togo' 'Ghana' 'Cameroon' 'Gabon' 'Nigeria' 'Sudan'\n",
            " 'Eritrea' 'Burkina Faso' 'Niger' 'Chad' 'Gambia' 'Senegal' 'Somalia'\n",
            " 'Djibouti' 'Mali' 'Algeria' 'Tunisia' 'Morocco' 'Egypt' 'Libya' 'Kenya'\n",
            " 'Angola' 'South Sudan' 'Tanzania' 'Ethiopia' 'Congo'\n",
            " 'Democratic Republic of the Congo' 'Mauritania' 'South Africa' 'Botswana'\n",
            " 'Zambia' 'Zimbabwe' 'Malawi' 'Madagascar' 'Mozambique'\n",
            " 'Central African Republic' 'Uganda' 'Burundi' 'Guinea' 'Guinea-Bissau'\n",
            " 'Equatorial Guinea' 'Namibia' 'Afghanistan' 'Azerbaijan' 'Lebanon'\n",
            " 'Bangladesh' 'China' 'India' 'Indonesia' 'Iran' 'Iraq' 'Israel' 'Japan'\n",
            " 'Kazakhstan' 'Mongolia' 'North Korea' 'Oman' 'Pakistan' 'Philippines'\n",
            " 'Russia' 'Saudi Arabia' 'Singapore' 'South Korea' 'Taiwan' 'Thailand'\n",
            " 'Turkey' 'United ArabEmirates' 'Uzbekistan' 'Vietnam' 'Albania' 'Armenia'\n",
            " 'Austria' 'Belarus' 'Belgium' 'Bosnia and Herzegovina' 'Bulgaria'\n",
            " 'Croatia' 'Czech Republic' 'Cyprus' 'Denmark' 'Estonia' 'Faroe Islands'\n",
            " 'Finland' 'France' 'Georgia' 'Germany' 'Greece' 'Hungary' 'Iceland'\n",
            " 'Ireland' 'Italy' 'Latvia' 'Lithuania' 'Luxembourg' 'Malta' 'Moldova'\n",
            " 'Monaco' 'Montenegro' 'Netherlands' 'North Macedonia' 'Norway' 'Poland'\n",
            " 'Portugal' 'Romania' 'Serbia' 'Slovakia' 'Slovenia' 'Spain' 'Sweden'\n",
            " 'Switzerland' 'Ukraine' 'United Kingdom' 'Canada' 'Honduras' 'Mexico'\n",
            " 'Nicaragua' 'Panama' 'Puerto Rico' 'El Salvador'\n",
            " 'Saint Pierreand Miquelon' 'United States' 'Argentina' 'Bolivia' 'Brazil'\n",
            " 'Chile' 'Colombia' 'Ecuador' 'Falkland Islands' 'French Guiana' 'Guyana'\n",
            " 'Paraguay' 'Peru' 'Uruguay' 'Venezuela' 'Australia' 'Papua New Guinea'\n",
            " 'Solomon Islands' 'New Zealand' 'Fiji']\n"
          ]
        }
      ]
    },
    {
      "cell_type": "code",
      "source": [
        "min_values = []\n",
        "max_values = []\n",
        "\n",
        "for country in unique_countries:\n",
        "    country_data = df[df['Country'] == country]\n",
        "    min_value = country_data[['Jan', 'Feb', 'Mar', 'Apr', 'May', 'Jun', 'Jul', 'Aug', 'Sep', 'Oct', 'Nov', 'Dec']].min().min()\n",
        "    max_value = country_data[['Jan', 'Feb', 'Mar', 'Apr', 'May', 'Jun', 'Jul', 'Aug', 'Sep', 'Oct', 'Nov', 'Dec']].max().max()\n",
        "\n",
        "    min_values.append(min_value)\n",
        "    max_values.append(max_value)\n",
        "\n",
        "result_list = list(zip(unique_countries, min_values, max_values))\n",
        "print(result_list)\n"
      ],
      "metadata": {
        "colab": {
          "base_uri": "https://localhost:8080/"
        },
        "id": "fYMwaqLNqRO0",
        "outputId": "b219cd4f-55f1-44a2-f4de-58b5ad558c36"
      },
      "execution_count": 26,
      "outputs": [
        {
          "output_type": "stream",
          "name": "stdout",
          "text": [
            "[('Ivory Coast', 80.0, 279.0), ('Benin', 104.0, 282.0), ('Togo', 131.0, 285.0), ('Ghana', 77.0, 283.0), ('Cameroon', 46.0, 291.4), ('Gabon', 90.4, 176.9), ('Nigeria', 99.2, 313.0), ('Sudan', 214.0, 341.0), ('Eritrea', 217.9, 304.7), ('Burkina Faso', 217.0, 291.0), ('Niger', 235.6, 297.6), ('Chad', 201.5, 319.3), ('Gambia', 180.0, 310.0), ('Senegal', 188.0, 332.0), ('Somalia', 216.0, 293.0), ('Djibouti', 236.0, 310.0), ('Mali', 216.6, 292.0), ('Algeria', 136.0, 356.5), ('Tunisia', 145.7, 372.0), ('Morocco', 179.8, 335.0), ('Egypt', 207.7, 403.0), ('Libya', 167.4, 381.3), ('Kenya', 127.1, 321.0), ('Angola', 145.0, 233.0), ('South Sudan', 176.7, 303.8), ('Tanzania', 156.0, 341.0), ('Ethiopia', 111.6, 303.5), ('Congo', 70.0, 194.0), ('Democratic Republic of the Congo', 120.0, 318.0), ('Mauritania', 248.0, 320.0), ('South Africa', 166.1, 367.0), ('Botswana', 207.0, 332.0), ('Zambia', 142.8, 319.3), ('Zimbabwe', 190.4, 300.7), ('Malawi', 142.1, 319.3), ('Madagascar', 162.5, 324.0), ('Mozambique', 210.0, 248.0), ('Central African Republic', 124.0, 297.4), ('Uganda', 139.0, 238.0), ('Burundi', 150.0, 272.8), ('Guinea', 87.0, 262.0), ('Guinea-Bissau', 155.0, 279.0), ('Equatorial Guinea', 46.5, 201.5), ('Namibia', 254.0, 353.0), ('Afghanistan', 177.2, 356.8), ('Azerbaijan', 89.0, 313.1), ('Lebanon', 133.0, 361.0), ('Bangladesh', 62.0, 279.0), ('China', 47.0, 301.0), ('India', 73.4, 300.7), ('Indonesia', 98.1, 305.0), ('Iran', 134.1, 366.9), ('Iraq', 192.2, 353.4), ('Israel', 189.1, 368.9), ('Japan', 63.5, 221.5), ('Kazakhstan', 94.0, 336.0), ('Mongolia', 156.4, 299.3), ('North Korea', 165.0, 263.0), ('Oman', 244.8, 347.4), ('Pakistan', 147.7, 334.8), ('Philippines', 132.0, 258.0), ('Russia', 0.0, 347.2), ('Saudi Arabia', 212.4, 332.1), ('Singapore', 129.6, 192.7), ('South Korea', 120.0, 221.7), ('Taiwan', 71.3, 221.4), ('Thailand', 105.0, 294.5), ('Turkey', 68.0, 350.3), ('United ArabEmirates', 229.6, 344.1), ('Uzbekistan', 105.4, 384.4), ('Vietnam', 47.0, 272.0), ('Albania', 88.0, 354.0), ('Armenia', 92.0, 343.0), ('Austria', 51.0, 260.0), ('Belarus', 28.0, 271.0), ('Belgium', 45.0, 201.0), ('Bosnia and Herzegovina', 41.0, 256.0), ('Bulgaria', 66.0, 302.0), ('Croatia', 45.0, 347.0), ('Czech Republic', 47.0, 226.0), ('Cyprus', 170.5, 387.5), ('Denmark', 37.0, 315.0), ('Estonia', 20.0, 330.0), ('Faroe Islands', 6.0, 125.0), ('Finland', 29.0, 297.0), ('France', 51.0, 366.0), ('Georgia', 93.0, 256.0), ('Germany', 37.0, 233.0), ('Greece', 127.0, 363.0), ('Hungary', 52.0, 271.0), ('Iceland', 20.0, 201.0), ('Ireland', 53.0, 195.0), ('Italy', 59.0, 342.0), ('Latvia', 22.0, 288.0), ('Lithuania', 23.0, 260.0), ('Luxembourg', 43.0, 232.5), ('Malta', 161.0, 377.0), ('Moldova', 58.0, 299.0), ('Monaco', 136.5, 329.3), ('Montenegro', 109.0, 340.0), ('Netherlands', 51.0, 222.0), ('North Macedonia', 80.0, 323.0), ('Norway', 0.0, 250.0), ('Poland', 33.6, 295.4), ('Portugal', 124.0, 368.0), ('Romania', 62.0, 288.0), ('Serbia', 49.0, 291.0), ('Slovakia', 47.0, 276.0), ('Slovenia', 56.0, 293.0), ('Spain', 124.0, 359.0), ('Sweden', 32.0, 292.0), ('Switzerland', 35.0, 271.0), ('Ukraine', 31.0, 310.0), ('United Kingdom', 32.0, 212.0), ('Canada', 12.6, 314.1), ('Honduras', 144.0, 234.0), ('Mexico', 133.0, 332.0), ('Nicaragua', 151.9, 291.4), ('Panama', 99.2, 245.2), ('Puerto Rico', 202.4, 282.0), ('El Salvador', 174.0, 301.0), ('Saint Pierreand Miquelon', 45.4, 173.5), ('United States', 51.8, 440.2), ('Argentina', 35.0, 297.6), ('Bolivia', 148.8, 240.0), ('Brazil', 93.4, 294.1), ('Chile', 45.0, 365.8), ('Colombia', 83.0, 283.0), ('Ecuador', 101.7, 256.0), ('Falkland Islands', 57.0, 200.0), ('French Guiana', 89.9, 255.2), ('Guyana', 156.7, 235.3), ('Paraguay', 165.0, 295.0), ('Peru', 28.6, 310.0), ('Uruguay', 129.7, 294.9), ('Venezuela', 182.9, 301.0), ('Australia', 120.0, 359.4), ('Papua New Guinea', 158.0, 243.0), ('Solomon Islands', 155.4, 226.3), ('New Zealand', 95.3, 240.3), ('Fiji', 135.0, 195.3)]\n"
          ]
        }
      ]
    },
    {
      "cell_type": "code",
      "source": [
        "sunlight_avg = df.groupby(['Country', 'Avg_Year'])['Avg_Year']\n",
        "\n",
        "city_with_max_sunlight = df.loc[df.groupby(['Country', 'Avg_Year'])['Avg_Year'].idxmax()]\n",
        "\n",
        "print(city_with_max_sunlight[['Country', 'Avg_Year', 'City']])\n"
      ],
      "metadata": {
        "colab": {
          "base_uri": "https://localhost:8080/"
        },
        "id": "rP-nPNOurgRL",
        "outputId": "b69b378f-fccc-43c1-d26e-b06800f1b81a"
      },
      "execution_count": 27,
      "outputs": [
        {
          "output_type": "stream",
          "name": "stdout",
          "text": [
            "         Country  Avg_Year         City\n",
            "111  Afghanistan    3175.1        Kabul\n",
            "184      Albania    2544.0       Tirana\n",
            "41       Algeria    2847.0      Algiers\n",
            "42       Algeria    3686.0  Tamanrasset\n",
            "59        Angola    2341.0       Luanda\n",
            "..           ...       ...          ...\n",
            "84        Zambia    2793.9        Ndola\n",
            "85        Zambia    2935.7       Lusaka\n",
            "86        Zambia    3166.8  Livingstone\n",
            "87      Zimbabwe    3010.9       Harare\n",
            "88      Zimbabwe    3119.9     Bulawayo\n",
            "\n",
            "[391 rows x 3 columns]\n"
          ]
        }
      ]
    },
    {
      "cell_type": "code",
      "source": [
        "df_country_average_sorted = df_country_average.sort_values(by='Avg_Year', ascending=False)\n",
        "\n",
        "print(df_country_average_sorted)\n"
      ],
      "metadata": {
        "colab": {
          "base_uri": "https://localhost:8080/"
        },
        "id": "kFXMBdn9M3Fs",
        "outputId": "51599def-85e7-4238-a869-ffc997ec471b"
      },
      "execution_count": 45,
      "outputs": [
        {
          "output_type": "stream",
          "name": "stdout",
          "text": [
            "                      Country     Avg_Year\n",
            "87                    Namibia  3737.500000\n",
            "35                      Egypt  3710.680000\n",
            "121                     Sudan  3559.550000\n",
            "132       United ArabEmirates  3508.700000\n",
            "96                       Oman  3493.300000\n",
            "..                        ...          ...\n",
            "133            United Kingdom  1441.666667\n",
            "108  Saint Pierreand Miquelon  1427.300000\n",
            "95                     Norway  1373.333333\n",
            "58                    Iceland  1326.000000\n",
            "42              Faroe Islands   840.000000\n",
            "\n",
            "[141 rows x 2 columns]\n"
          ]
        }
      ]
    },
    {
      "cell_type": "code",
      "source": [
        "city_with_max_sunlight = city_with_max_sunlight.sort_values(by='Avg_Year', ascending=False)\n",
        "\n",
        "print(city_with_max_sunlight[['Country', 'Avg_Year', 'City']])\n"
      ],
      "metadata": {
        "colab": {
          "base_uri": "https://localhost:8080/"
        },
        "id": "GtiEK4hfsOA6",
        "outputId": "77ca5e66-d9dd-44f8-88c1-1d2454a26e69"
      },
      "execution_count": 28,
      "outputs": [
        {
          "output_type": "stream",
          "name": "stdout",
          "text": [
            "               Country  Avg_Year          City\n",
            "329      United States    4015.3          Yuma\n",
            "52               Egypt    3958.0    Marsa Alam\n",
            "50               Egypt    3943.4  Dakhla Oasis\n",
            "349              Chile    3926.2        Calama\n",
            "311      United States    3871.6       Phoenix\n",
            "..                 ...       ...           ...\n",
            "364               Peru    1230.0          Lima\n",
            "226             Norway    1187.0        Bergen\n",
            "108  Equatorial Guinea    1176.7        Malabo\n",
            "159             Russia    1164.3        Dikson\n",
            "200      Faroe Islands     840.0      Tórshavn\n",
            "\n",
            "[391 rows x 3 columns]\n"
          ]
        }
      ]
    },
    {
      "cell_type": "code",
      "source": [
        "median_value = city_with_max_sunlight['Avg_Year'].median()\n",
        "max_value = city_with_max_sunlight['Avg_Year'].max()\n",
        "min_value = city_with_max_sunlight['Avg_Year'].min()\n",
        "mean_value = city_with_max_sunlight['Avg_Year'].mean()\n",
        "\n",
        "median_value, max_value, min_value, mean_value"
      ],
      "metadata": {
        "colab": {
          "base_uri": "https://localhost:8080/"
        },
        "id": "pwg0KoEmvpEC",
        "outputId": "ecaa43bb-4e1f-42f0-db7f-0bb744b08947"
      },
      "execution_count": 29,
      "outputs": [
        {
          "output_type": "execute_result",
          "data": {
            "text/plain": [
              "(2512.2, 4015.3, 840.0, 2523.9187979539643)"
            ]
          },
          "metadata": {},
          "execution_count": 29
        }
      ]
    },
    {
      "cell_type": "code",
      "source": [
        "plt.hist(city_with_max_sunlight['Avg_Year'], bins=100, edgecolor='k', alpha=0.7)\n",
        "plt.axvline(median_value, color='red', linestyle='dashed', linewidth=2, label='Median')\n",
        "plt.axvline(mean_value, color='yellow', linestyle='solid', linewidth=2, label='Mean')\n",
        "plt.xlabel('Annual Sunight Hours (Avg_Year)')\n",
        "plt.ylabel('Number of Cities')\n",
        "plt.title('Average Annual Hours of Sunlight')\n",
        "plt.show()"
      ],
      "metadata": {
        "colab": {
          "base_uri": "https://localhost:8080/",
          "height": 472
        },
        "id": "VvXKZxkSu9ZT",
        "outputId": "4e14efff-046d-4420-d414-fdf610d73396"
      },
      "execution_count": 30,
      "outputs": [
        {
          "output_type": "display_data",
          "data": {
            "text/plain": [
              "<Figure size 640x480 with 1 Axes>"
            ],
            "image/png": "[encoded data removed]"
          },
          "metadata": {}
        }
      ]
    },
    {
      "cell_type": "code",
      "source": [
        "country_avg_sunlight = df.groupby('Country')['Avg_Year'].mean()\n",
        "\n",
        "country_with_most_sunlight = country_avg_sunlight.idxmax()\n",
        "max_sunlight_hours = country_avg_sunlight.max()\n",
        "\n",
        "print(f\"The country with the most sunlight hours is {country_with_most_sunlight} with an average of {max_sunlight_hours} hours per year.\")\n"
      ],
      "metadata": {
        "colab": {
          "base_uri": "https://localhost:8080/"
        },
        "id": "TIhS46iNzM_e",
        "outputId": "ee8c2716-efa2-4827-9573-788b282b85f9"
      },
      "execution_count": 31,
      "outputs": [
        {
          "output_type": "stream",
          "name": "stdout",
          "text": [
            "The country with the most sunlight hours is Namibia with an average of 3737.5 hours per year.\n"
          ]
        }
      ]
    },
    {
      "cell_type": "code",
      "source": [
        "country_avg_sunlight = df.groupby('Country')['Avg_Year'].mean()\n",
        "\n",
        "country_with_least_sunlight = country_avg_sunlight.idxmin()\n",
        "min_sunlight_hours = country_avg_sunlight.min()\n",
        "\n",
        "print(f\"The country with the least sunlight hours is {country_with_least_sunlight} with an average of {min_sunlight_hours} hours per year.\")\n"
      ],
      "metadata": {
        "colab": {
          "base_uri": "https://localhost:8080/"
        },
        "id": "-ncZ96Qy2b7f",
        "outputId": "3c3b9fa2-99e0-470a-8023-d9883db5bb61"
      },
      "execution_count": 32,
      "outputs": [
        {
          "output_type": "stream",
          "name": "stdout",
          "text": [
            "The country with the least sunlight hours is Faroe Islands with an average of 840.0 hours per year.\n"
          ]
        }
      ]
    },
    {
      "cell_type": "code",
      "source": [
        "import matplotlib.pyplot as plt\n",
        "\n",
        "\n",
        "plt.figure(figsize=(8, 6))\n",
        "plt.boxplot(df['Avg_Year'])\n",
        "plt.xlabel('Average Annual Hours of Sunlight  (Avg_Year)')\n",
        "plt.title('Average Hours of Sunlight Per Year')\n",
        "plt.show()\n"
      ],
      "metadata": {
        "colab": {
          "base_uri": "https://localhost:8080/",
          "height": 564
        },
        "id": "7XW_n7vX73z4",
        "outputId": "21b43706-4323-475c-e68e-a3ab2309e536"
      },
      "execution_count": 33,
      "outputs": [
        {
          "output_type": "display_data",
          "data": {
            "text/plain": [
              "<Figure size 800x600 with 1 Axes>"
            ],
            "image/png": "[encoded data removed]"
          },
          "metadata": {}
        }
      ]
    },
    {
      "cell_type": "code",
      "source": [
        "num_countries = df['Country'].nunique()\n",
        "num_countries"
      ],
      "metadata": {
        "colab": {
          "base_uri": "https://localhost:8080/"
        },
        "id": "n-wWZ8Rby8ep",
        "outputId": "1bab6e84-a73b-41c3-eaa5-18ed955643e9"
      },
      "execution_count": 34,
      "outputs": [
        {
          "output_type": "execute_result",
          "data": {
            "text/plain": [
              "141"
            ]
          },
          "metadata": {},
          "execution_count": 34
        }
      ]
    },
    {
      "cell_type": "code",
      "source": [
        "average_sunlight_per_country = df[['Country', 'Jan', 'Feb', 'Mar', 'Apr', 'May', 'Jun', 'Jul', 'Aug', 'Sep', 'Oct', 'Nov', 'Dec']].mean(axis=1)\n",
        "\n",
        "average_sunlight_df = pd.DataFrame({'Country': df['Country'], 'Average_Sunlight': average_sunlight_per_country})\n",
        "\n",
        "print(average_sunlight_df)\n"
      ],
      "metadata": {
        "id": "ppY6NL9zEaph",
        "colab": {
          "base_uri": "https://localhost:8080/"
        },
        "outputId": "d3cc73ff-e5d8-467a-907a-635eaedcec71"
      },
      "execution_count": 35,
      "outputs": [
        {
          "output_type": "stream",
          "name": "stdout",
          "text": [
            "         Country  Average_Sunlight\n",
            "0    Ivory Coast        151.916667\n",
            "1    Ivory Coast        174.333333\n",
            "2    Ivory Coast        191.333333\n",
            "3    Ivory Coast        219.883333\n",
            "4    Ivory Coast        229.750000\n",
            "..           ...               ...\n",
            "387  New Zealand        171.558333\n",
            "388  New Zealand        168.308333\n",
            "389  New Zealand        166.941667\n",
            "390         Fiji        160.166667\n",
            "391  New Zealand        140.300000\n",
            "\n",
            "[392 rows x 2 columns]\n"
          ]
        },
        {
          "output_type": "stream",
          "name": "stderr",
          "text": [
            "<ipython-input-35-c1438495428c>:1: FutureWarning: Dropping of nuisance columns in DataFrame reductions (with 'numeric_only=None') is deprecated; in a future version this will raise TypeError.  Select only valid columns before calling the reduction.\n",
            "  average_sunlight_per_country = df[['Country', 'Jan', 'Feb', 'Mar', 'Apr', 'May', 'Jun', 'Jul', 'Aug', 'Sep', 'Oct', 'Nov', 'Dec']].mean(axis=1)\n"
          ]
        }
      ]
    },
    {
      "cell_type": "code",
      "source": [
        "df_country_average = df.groupby('Country')['Avg_Year'].mean().reset_index()\n",
        "\n",
        "print(df_country_average)"
      ],
      "metadata": {
        "colab": {
          "base_uri": "https://localhost:8080/"
        },
        "id": "tqIeIIwANsga",
        "outputId": "6faec668-fc58-4635-a8ed-d70f012604e7"
      },
      "execution_count": 36,
      "outputs": [
        {
          "output_type": "stream",
          "name": "stdout",
          "text": [
            "         Country     Avg_Year\n",
            "0    Afghanistan  3175.100000\n",
            "1        Albania  2544.000000\n",
            "2        Algeria  3266.500000\n",
            "3         Angola  2341.000000\n",
            "4      Argentina  2220.300000\n",
            "..           ...          ...\n",
            "136   Uzbekistan  2823.900000\n",
            "137    Venezuela  2895.300000\n",
            "138      Vietnam  2123.500000\n",
            "139       Zambia  2965.466667\n",
            "140     Zimbabwe  3065.400000\n",
            "\n",
            "[141 rows x 2 columns]\n"
          ]
        }
      ]
    },
    {
      "cell_type": "markdown",
      "source": [
        "## Summary\n",
        "\n",
        "through the data analysis shown above we were able to discover some descriptive statistics. From the 141 countries in the dataset we discovered Namibia to have the greatest number of sunlight hours per year, reaching 3737.5 hours per year. Whilst the lowest country is the Faroe Islands with an average of 840.0 hours per year.\n",
        "\n",
        "Some further descriptive statistics were discovered such as the median_value 2512.2 hours of sunlight, max_value 4015.3 hours of sunlight, min_value 840 hours of sunlight, mean_value 2523.9 hours of sunlight. Histograms and box plots were plotted to gain a deeper understanding of the descriptive statistics.\n",
        "\n",
        "the four countries which experience the most sunlight after Namibia are Egypt, Sudan, United Arab Emirates, and Oman, all averaging more than 3400 hours of sunlight per year. The countries which experience the least sunlight following the Faroe Islands are, Iceland, Norway, Saint Pierreand Miquelon, and United Kingdom, all averaging less than 1500 hours of sunlight.\n"
      ],
      "metadata": {
        "id": "YqJUBjgX12s-"
      }
    }
  ]
}